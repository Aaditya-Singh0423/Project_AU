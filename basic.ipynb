{
 "cells": [
  {
   "cell_type": "markdown",
   "id": "d11945a6",
   "metadata": {},
   "source": [
    "## Sum of 2 numbers\n"
   ]
  },
  {
   "cell_type": "markdown",
   "id": "1c6e3ac9",
   "metadata": {},
   "source": [
    "# This is a simple Python script to demonstrate basic programming concepts\n",
    "# It calculates the sum of two numbers and prints the result"
   ]
  },
  {
   "cell_type": "code",
   "execution_count": 1,
   "id": "0f15eb16",
   "metadata": {},
   "outputs": [
    {
     "name": "stdout",
     "output_type": "stream",
     "text": [
      "The sum of 3 and 4 is 7\n"
     ]
    }
   ],
   "source": [
    "\n",
    "a=3\n",
    "b=4\n",
    "sum = a + b\n",
    "print(\"The sum of\", a, \"and\", b, \"is\", sum)"
   ]
  },
  {
   "cell_type": "markdown",
   "id": "87d7f39a",
   "metadata": {},
   "source": [
    "## User input without int declaration"
   ]
  },
  {
   "cell_type": "code",
   "execution_count": 2,
   "id": "13121f7c",
   "metadata": {},
   "outputs": [
    {
     "name": "stdout",
     "output_type": "stream",
     "text": [
      "The sum of 5 and 5 is 55\n"
     ]
    }
   ],
   "source": [
    "# Now, let's take input from the user for a more interactive experience\n",
    "a=input(\"Enter first number: \")  # Input will be treated as a string\n",
    "b=input(\"Enter second number: \")\n",
    "sum = a + b\n",
    "print(\"The sum of\", a, \"and\", b, \"is\", sum)"
   ]
  },
  {
   "cell_type": "markdown",
   "id": "d6968ca0",
   "metadata": {},
   "source": [
    "## After declaration of int"
   ]
  },
  {
   "cell_type": "code",
   "execution_count": 3,
   "id": "857cdea8",
   "metadata": {},
   "outputs": [
    {
     "name": "stdout",
     "output_type": "stream",
     "text": [
      "The sum of 9 and 5 is 14\n"
     ]
    }
   ],
   "source": [
    "# Note: The above input will concatenate strings, not add numbers.\n",
    "# To fix this, we need to convert the inputs to integers\n",
    "a = int(input(\"Enter first number: \"))  # Convert input to integer\n",
    "b = int(input(\"Enter second number: \"))\n",
    "sum = a + b\n",
    "print(\"The sum of\", a, \"and\", b, \"is\", sum)"
   ]
  },
  {
   "cell_type": "markdown",
   "id": "54089db5",
   "metadata": {},
   "source": [
    "# Demonstrating string concatenation"
   ]
  },
  {
   "cell_type": "code",
   "execution_count": null,
   "id": "8970e6cc",
   "metadata": {},
   "outputs": [
    {
     "name": "stdout",
     "output_type": "stream",
     "text": [
      "Aaditya Singh Naruka\n",
      "Aaditya Singh's assignment\n",
      "Aaditya \n",
      "Singh\n"
     ]
    }
   ],
   "source": [
    "\n",
    "name1 = 'Aaditya Singh Naruka'              # Demonstrating different ways to define strings\n",
    "name2 = \"Aaditya Singh's assignment\" # Double quotes is used for English strings\n",
    "name3 = '''Aaditya \n",
    "Singh'''                            # Triple quotes can be used for multi-line strings\n",
    "print(name1)\n",
    "print(name2)\n",
    "print(name3)"
   ]
  },
  {
   "cell_type": "markdown",
   "id": "30a31679",
   "metadata": {},
   "source": [
    "# Demonstrating string formatting"
   ]
  },
  {
   "cell_type": "code",
   "execution_count": null,
   "id": "8950576d",
   "metadata": {},
   "outputs": [
    {
     "name": "stdout",
     "output_type": "stream",
     "text": [
      "AADITYA SINGH NARUKA\n",
      "aaditya singh's assignment\n"
     ]
    }
   ],
   "source": [
    "\n",
    "print(name1.upper())  # Converts string to uppercase\n",
    "print(name2.lower())  # Converts string to lowercase"
   ]
  },
  {
   "cell_type": "markdown",
   "id": "8b9ad6b8",
   "metadata": {},
   "source": [
    "# Demonstrating arithmetic operations"
   ]
  },
  {
   "cell_type": "code",
   "execution_count": null,
   "id": "e87baab8",
   "metadata": {},
   "outputs": [
    {
     "name": "stdout",
     "output_type": "stream",
     "text": [
      "15\n"
     ]
    }
   ],
   "source": [
    "\n",
    "y = 7+8\n",
    "print(y)"
   ]
  },
  {
   "cell_type": "markdown",
   "id": "feaa5b83",
   "metadata": {},
   "source": [
    "## Use backslash to continue from next line\n",
    "# also used as a escaping charatcter\n"
   ]
  },
  {
   "cell_type": "code",
   "execution_count": 7,
   "id": "25601acc",
   "metadata": {},
   "outputs": [
    {
     "name": "stdout",
     "output_type": "stream",
     "text": [
      "15\n"
     ]
    }
   ],
   "source": [
    "# Demonstrating line continuation\n",
    "y1 = 7+\\\n",
    "8\n",
    "print(y1)  # This will print 15, demonstrating line continuation with backslash"
   ]
  },
  {
   "cell_type": "markdown",
   "id": "5ccbce5c",
   "metadata": {},
   "source": [
    "# Demonstrating incorrect line continuation"
   ]
  },
  {
   "cell_type": "code",
   "execution_count": null,
   "id": "2a05d46e",
   "metadata": {},
   "outputs": [
    {
     "name": "stdout",
     "output_type": "stream",
     "text": [
      "Aaditya Singh's book\n"
     ]
    }
   ],
   "source": [
    "\n",
    "# y2 = 7 + \n",
    "# 8\n",
    "# print(y2)  # This will raise a syntax error due to incorrect line continuation\n",
    "\n",
    "name='Aaditya Singh\\'s book'  # Using backslash to escape single quote in string\n",
    "print(name)"
   ]
  },
  {
   "cell_type": "markdown",
   "id": "956ed0f2",
   "metadata": {},
   "source": [
    "# Demonstrating boolean expressions"
   ]
  },
  {
   "cell_type": "code",
   "execution_count": null,
   "id": "ef9e539a",
   "metadata": {},
   "outputs": [
    {
     "name": "stdout",
     "output_type": "stream",
     "text": [
      "False\n",
      "True\n",
      "True\n",
      "False\n",
      "True\n",
      "False\n",
      "2\n",
      "1\n",
      "0\n"
     ]
    }
   ],
   "source": [
    "\n",
    "print(3 == 4)  # This will print False since 3 is not equal to 4\n",
    "print(3 != 4)  # This will print True since 3 is not equal to 4\n",
    "print(3 < 4)   # This will print True since 3 is less than 4\n",
    "print(3 > 4)   # This will print False since 3 is not greater than 4\n",
    "print(3 <= 4)  # This will print True since 3 is less than or equal to 4\n",
    "print(3 >= 4)  # This will print False since 3 is not greater than or equal to 4\n",
    "print(True+True)    # This will print 2 since True is treated as 1\n",
    "print(True+False)   # This will print 1 since True is treated as 1 and False as 0\n",
    "print(False+False)  # This will print 0 since both are False"
   ]
  },
  {
   "cell_type": "markdown",
   "id": "58dc71a1",
   "metadata": {},
   "source": [
    "# Demonstrating string operations"
   ]
  },
  {
   "cell_type": "code",
   "execution_count": null,
   "id": "6898c555",
   "metadata": {},
   "outputs": [
    {
     "name": "stdout",
     "output_type": "stream",
     "text": [
      "Sa\n",
      "SSS\n"
     ]
    }
   ],
   "source": [
    "\n",
    "print(\"S\"+\"a\") # This will print \"Sa\" since it concatenates the two strings\n",
    "print(\"S\"*3)   # This will print \"SSS\" since it repeats the string 3 times"
   ]
  },
  {
   "cell_type": "markdown",
   "id": "0225fe2c",
   "metadata": {},
   "source": [
    "# Demonstrating string indexing and slicing"
   ]
  },
  {
   "cell_type": "code",
   "execution_count": null,
   "id": "ac7e55a9",
   "metadata": {},
   "outputs": [
    {
     "name": "stdout",
     "output_type": "stream",
     "text": [
      "A\n",
      "a\n",
      "a\n",
      "a\n",
      "Aadit\n",
      " Singh Naruka\n"
     ]
    },
    {
     "data": {
      "text/plain": [
       "'Aaditya Singh Naruka'"
      ]
     },
     "execution_count": 17,
     "metadata": {},
     "output_type": "execute_result"
    }
   ],
   "source": [
    "\n",
    "s = \"Aaditya Singh Naruka\"\n",
    "print(s[0])         # This will print 'C', the first character of the string\n",
    "print(s[1])         # This will print 'h', the second character of the string\n",
    "print(s[6])         # This will print ' ', the seventh character of the string\n",
    "print(s[-1])        # This will print 'l', the last character of the string\n",
    "print(s[0:5])       # This will print 'Chira', the first five characters of the string\n",
    "print(s[7:])        # This will print 'Agrawal', from the eigth character to the end\n",
    "#s[0] = \"D\"          # This will raise an error since strings are immutable in Python\n",
    "s.replace(\"C\", \"D\") # This will replace 'C' with 'D' in the string, but does not modify the original string"
   ]
  },
  {
   "cell_type": "markdown",
   "id": "10934ecf",
   "metadata": {},
   "source": [
    "# Demonstrating complex numbers"
   ]
  },
  {
   "cell_type": "code",
   "execution_count": null,
   "id": "d33a80f1",
   "metadata": {},
   "outputs": [
    {
     "name": "stdout",
     "output_type": "stream",
     "text": [
      "(3+5j)\n"
     ]
    }
   ],
   "source": [
    "\n",
    "x=3+5j\n",
    "print(x)  # This will print the complex number (3+5j)"
   ]
  },
  {
   "cell_type": "markdown",
   "id": "0f542ba0",
   "metadata": {},
   "source": [
    "# Demonstrating list operations"
   ]
  },
  {
   "cell_type": "code",
   "execution_count": null,
   "id": "64a3766b",
   "metadata": {},
   "outputs": [
    {
     "name": "stdout",
     "output_type": "stream",
     "text": [
      "[1, 2, 3, 4, 'Aaditya', [1, 2, 3, 4]]\n",
      "1\n",
      "Aaditya\n",
      "[1, 2, 3, 4]\n",
      "4\n"
     ]
    }
   ],
   "source": [
    "\n",
    "list_1 = [1, 2, 3, 4, \"Aaditya\", [1, 2, 3, 4]]  # A simple list of integers\n",
    "print(list_1)      # This will print the entire list\n",
    "print(list_1[0])   # This will print the first element of the list, which is 1\n",
    "print(list_1[4])   # This will print the fifth element of the list, which is \"Chirag\"\n",
    "print(list_1[5])   # This will print the sixth element of the list, which is another list [1, 2, 3, 4]\n",
    "print(list_1[-3])  # This will print the third last element of the list, which is 4"
   ]
  },
  {
   "cell_type": "markdown",
   "id": "f31503fa",
   "metadata": {},
   "source": [
    "# Demonstrating tuple operations"
   ]
  },
  {
   "cell_type": "code",
   "execution_count": null,
   "id": "9c4627ab",
   "metadata": {},
   "outputs": [
    {
     "name": "stdout",
     "output_type": "stream",
     "text": [
      "(1, 2, 3, 4, 'Aaditya', [1, 2, 3, 4])\n",
      "1\n",
      "Aaditya\n",
      "[1, 2, 3, 4]\n"
     ]
    }
   ],
   "source": [
    "\n",
    "tuple_1 = (1, 2, 3, 4, \"Aaditya\", [1, 2, 3, 4])  # A simple tuple of integers\n",
    "print(tuple_1)      # This will print the entire tuple\n",
    "print(tuple_1[0])   # This will print the first element of the tuple, which is 1\n",
    "print(tuple_1[4])   # This will print the fifth element of the tuple, which is \"Chirag\"\n",
    "print(tuple_1[5])   # This will print the sixth element of the tuple, which is another list [1, 2, 3, 4]\n",
    "type(tuple_1)       # This will print <class 'tuple'> since tuple_1 is a tuple\n",
    "tuple_2=(7)         # This is not a tuple, it's just an integer\n",
    "type(tuple_2)       # This will print <class 'int'> since tuple_2 is not a tuple but an integer\n",
    "tuple_3=(7,)        # This is a tuple with one element"
   ]
  },
  {
   "cell_type": "markdown",
   "id": "a5650eee",
   "metadata": {},
   "source": [
    "# Demonstrating set operations"
   ]
  },
  {
   "cell_type": "code",
   "execution_count": null,
   "id": "f1d4ecca",
   "metadata": {},
   "outputs": [
    {
     "name": "stdout",
     "output_type": "stream",
     "text": [
      "{(1, 2, 3, 4), 1, 2, 3, 4, 'Aaditya'}\n",
      "True\n",
      "False\n"
     ]
    }
   ],
   "source": [
    "\n",
    "set_1 = {1, 2, 3, 4, \"Aaditya\", (1, 2, 3, 4)}#[1, 2, 3, 4]}  # A simple set of integers and a tuple and a list\n",
    "# Note: Sets do not allow mutable types like lists, so the list will be ignored\n",
    "print(set_1)       # This will print the entire set\n",
    "print(1 in set_1)  # This will print True since 1 is in the set\n",
    "print(5 in set_1)  # This will print False since 5 is not in the set\n",
    "# print(set_1[0])    # This will raise an error since sets do not support indexing"
   ]
  },
  {
   "cell_type": "code",
   "execution_count": 3,
   "id": "e3f68b6e",
   "metadata": {},
   "outputs": [
    {
     "name": "stdout",
     "output_type": "stream",
     "text": [
      "11\n",
      "5\n",
      "5     6\n",
      "chirag aaditya\n",
      "chirag-->aaditya\n"
     ]
    }
   ],
   "source": [
    "a=5\n",
    "b=6\n",
    "c=a+b\n",
    "print(c)\n",
    "print(a)\n",
    "print(a,end=\"     \")\n",
    "print(b)\n",
    "s=\"chirag\"\n",
    "v=\"aaditya\"\n",
    "print(s,v)\n",
    "print(s,v,sep=\"-->\")"
   ]
  },
  {
   "cell_type": "markdown",
   "id": "f422353d",
   "metadata": {},
   "source": [
    "# Demonstration of for loop"
   ]
  },
  {
   "cell_type": "code",
   "execution_count": null,
   "id": "b00cc413",
   "metadata": {},
   "outputs": [
    {
     "name": "stdout",
     "output_type": "stream",
     "text": [
      "A hi\n",
      "a hi\n",
      "d hi\n",
      "i hi\n",
      "t hi\n",
      "y hi\n",
      "a hi\n",
      "1\n",
      "2\n",
      "3\n",
      "4\n",
      "5\n",
      "1\n",
      "2\n",
      "3\n",
      "4\n",
      "range(1, 10)\n",
      "[1, 2, 3, 4, 5, 6, 7, 8, 9]\n",
      "(1, 2, 3, 4, 5, 6, 7, 8, 9)\n",
      "[1, 2, 3, 4, 5, 6, 7, 8, 9]\n",
      "(1, 2, 3, 4, 5, 6, 7, 8, 9)\n"
     ]
    }
   ],
   "source": [
    "for word in \"Aaditya\":\n",
    "    print(word,\"hi\")       # This will print each character in the string \"Chirag\" followed by \"hi\"\n",
    "\n",
    "for ele in [1, 2, 3, 4, 5]:    \n",
    "    print(ele)             # This will print each element in the list [1, 2, 3, 4, 5]\n",
    "    \n",
    "#for digit in 1234567890:\n",
    "#   print(digit)           # This will raise an error since integers are not iterable, we need to convert it to a string first\n",
    "\n",
    "for ele in range(1,5):\n",
    "    print(ele)             # This will print numbers from 1 to 4 (5 is not included)\n",
    "    \n",
    "# range(start,stop,step-size)\n",
    "\n",
    "d=range(1,10)  # This will create a range object from 1 to 9\n",
    "print(d)          # This will print the range object, which is not very informative\n",
    "print(list(d))    # This will convert the range object to a list and print it, which will show [1, 2, 3, 4, 5, 6, 7, 8, 9]\n",
    "print(tuple(d))   # This will convert the range object to a tuple and print it, which will show (1, 2, 3, 4, 5, 6, 7, 8, 9)\n",
    "print([*d])             # This will unpack the range object into a list, which will show [1, 2, 3, 4, 5, 6, 7, 8, 9]\n",
    "print((*d,))            # This will unpack the range object into a tuple, which will show (1, 2, 3, 4, 5, 6, 7, 8, 9)"
   ]
  },
  {
   "cell_type": "markdown",
   "id": "e47874a4",
   "metadata": {},
   "source": [
    "Demonstration of while loop"
   ]
  },
  {
   "cell_type": "code",
   "execution_count": 9,
   "id": "14ec8544",
   "metadata": {},
   "outputs": [
    {
     "name": "stdout",
     "output_type": "stream",
     "text": [
      "hii\n",
      "hii\n",
      "hii\n",
      "hii\n"
     ]
    }
   ],
   "source": [
    "num=1\n",
    "while num<5:\n",
    "    print(\"hii\")\n",
    "    num+=1"
   ]
  },
  {
   "cell_type": "code",
   "execution_count": null,
   "id": "23803c3c",
   "metadata": {},
   "outputs": [],
   "source": []
  }
 ],
 "metadata": {
  "kernelspec": {
   "display_name": "Python 3",
   "language": "python",
   "name": "python3"
  },
  "language_info": {
   "codemirror_mode": {
    "name": "ipython",
    "version": 3
   },
   "file_extension": ".py",
   "mimetype": "text/x-python",
   "name": "python",
   "nbconvert_exporter": "python",
   "pygments_lexer": "ipython3",
   "version": "3.11.5"
  }
 },
 "nbformat": 4,
 "nbformat_minor": 5
}
