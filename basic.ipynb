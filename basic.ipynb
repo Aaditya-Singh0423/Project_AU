{
 "cells": [
  {
   "cell_type": "markdown",
   "id": "d11945a6",
   "metadata": {},
   "source": [
    "## Sum of 2 numbers\n"
   ]
  },
  {
   "cell_type": "markdown",
   "id": "1c6e3ac9",
   "metadata": {},
   "source": [
    "# This is a simple Python script to demonstrate basic programming concepts\n",
    "# It calculates the sum of two numbers and prints the result"
   ]
  },
  {
   "cell_type": "code",
   "execution_count": 27,
   "id": "0f15eb16",
   "metadata": {},
   "outputs": [
    {
     "name": "stdout",
     "output_type": "stream",
     "text": [
      "The sum of 3 and 4 is 7\n"
     ]
    }
   ],
   "source": [
    "\n",
    "a=3\n",
    "b=4\n",
    "sum = a + b\n",
    "print(\"The sum of\", a, \"and\", b, \"is\", sum)"
   ]
  },
  {
   "cell_type": "markdown",
   "id": "87d7f39a",
   "metadata": {},
   "source": [
    "## User input without int declaration"
   ]
  },
  {
   "cell_type": "code",
   "execution_count": 28,
   "id": "13121f7c",
   "metadata": {},
   "outputs": [
    {
     "name": "stdout",
     "output_type": "stream",
     "text": [
      "The sum of 99 and 6 is 996\n"
     ]
    }
   ],
   "source": [
    "# Now, let's take input from the user for a more interactive experience\n",
    "a=input(\"Enter first number: \")  # Input will be treated as a string\n",
    "b=input(\"Enter second number: \")\n",
    "sum = a + b\n",
    "print(\"The sum of\", a, \"and\", b, \"is\", sum)"
   ]
  },
  {
   "cell_type": "markdown",
   "id": "d6968ca0",
   "metadata": {},
   "source": [
    "## After declaration of int"
   ]
  },
  {
   "cell_type": "code",
   "execution_count": 29,
   "id": "857cdea8",
   "metadata": {},
   "outputs": [
    {
     "name": "stdout",
     "output_type": "stream",
     "text": [
      "The sum of 2 and 2 is 4\n"
     ]
    }
   ],
   "source": [
    "# Note: The above input will concatenate strings, not add numbers.\n",
    "# To fix this, we need to convert the inputs to integers\n",
    "a = int(input(\"Enter first number: \"))  # Convert input to integer\n",
    "b = int(input(\"Enter second number: \"))\n",
    "sum = a + b\n",
    "print(\"The sum of\", a, \"and\", b, \"is\", sum)"
   ]
  },
  {
   "cell_type": "markdown",
   "id": "54089db5",
   "metadata": {},
   "source": [
    "# Demonstrating string concatenation"
   ]
  },
  {
   "cell_type": "code",
   "execution_count": 30,
   "id": "8970e6cc",
   "metadata": {},
   "outputs": [
    {
     "name": "stdout",
     "output_type": "stream",
     "text": [
      "Aaditya Singh Naruka\n",
      "Aaditya Singh's assignment\n",
      "Aaditya \n",
      "Singh\n"
     ]
    }
   ],
   "source": [
    "\n",
    "name1 = 'Aaditya Singh Naruka'              # Demonstrating different ways to define strings\n",
    "name2 = \"Aaditya Singh's assignment\" # Double quotes is used for English strings\n",
    "name3 = '''Aaditya \n",
    "Singh'''                            # Triple quotes can be used for multi-line strings\n",
    "print(name1)\n",
    "print(name2)\n",
    "print(name3)"
   ]
  },
  {
   "cell_type": "markdown",
   "id": "30a31679",
   "metadata": {},
   "source": [
    "# Demonstrating string formatting"
   ]
  },
  {
   "cell_type": "code",
   "execution_count": 31,
   "id": "8950576d",
   "metadata": {},
   "outputs": [
    {
     "name": "stdout",
     "output_type": "stream",
     "text": [
      "AADITYA SINGH NARUKA\n",
      "aaditya singh's assignment\n"
     ]
    }
   ],
   "source": [
    "\n",
    "print(name1.upper())  # Converts string to uppercase\n",
    "print(name2.lower())  # Converts string to lowercase"
   ]
  },
  {
   "cell_type": "markdown",
   "id": "8b9ad6b8",
   "metadata": {},
   "source": [
    "# Demonstrating arithmetic operations"
   ]
  },
  {
   "cell_type": "code",
   "execution_count": 32,
   "id": "e87baab8",
   "metadata": {},
   "outputs": [
    {
     "name": "stdout",
     "output_type": "stream",
     "text": [
      "15\n"
     ]
    }
   ],
   "source": [
    "\n",
    "y = 7+8\n",
    "print(y)"
   ]
  },
  {
   "cell_type": "markdown",
   "id": "feaa5b83",
   "metadata": {},
   "source": [
    "## Use backslash to continue from next line\n",
    "# also used as a escaping charatcter\n"
   ]
  },
  {
   "cell_type": "code",
   "execution_count": 33,
   "id": "25601acc",
   "metadata": {},
   "outputs": [
    {
     "name": "stdout",
     "output_type": "stream",
     "text": [
      "15\n"
     ]
    }
   ],
   "source": [
    "# Demonstrating line continuation\n",
    "y1 = 7+\\\n",
    "8\n",
    "print(y1)  # This will print 15, demonstrating line continuation with backslash"
   ]
  },
  {
   "cell_type": "markdown",
   "id": "5ccbce5c",
   "metadata": {},
   "source": [
    "# Demonstrating incorrect line continuation"
   ]
  },
  {
   "cell_type": "code",
   "execution_count": 34,
   "id": "2a05d46e",
   "metadata": {},
   "outputs": [
    {
     "name": "stdout",
     "output_type": "stream",
     "text": [
      "Aaditya Singh's book\n"
     ]
    }
   ],
   "source": [
    "\n",
    "# y2 = 7 + \n",
    "# 8\n",
    "# print(y2)  # This will raise a syntax error due to incorrect line continuation\n",
    "\n",
    "name='Aaditya Singh\\'s book'  # Using backslash to escape single quote in string\n",
    "print(name)"
   ]
  },
  {
   "cell_type": "markdown",
   "id": "956ed0f2",
   "metadata": {},
   "source": [
    "# Demonstrating boolean expressions"
   ]
  },
  {
   "cell_type": "code",
   "execution_count": 35,
   "id": "ef9e539a",
   "metadata": {},
   "outputs": [
    {
     "name": "stdout",
     "output_type": "stream",
     "text": [
      "False\n",
      "True\n",
      "True\n",
      "False\n",
      "True\n",
      "False\n",
      "2\n",
      "1\n",
      "0\n"
     ]
    }
   ],
   "source": [
    "\n",
    "print(3 == 4)  # This will print False since 3 is not equal to 4\n",
    "print(3 != 4)  # This will print True since 3 is not equal to 4\n",
    "print(3 < 4)   # This will print True since 3 is less than 4\n",
    "print(3 > 4)   # This will print False since 3 is not greater than 4\n",
    "print(3 <= 4)  # This will print True since 3 is less than or equal to 4\n",
    "print(3 >= 4)  # This will print False since 3 is not greater than or equal to 4\n",
    "print(True+True)    # This will print 2 since True is treated as 1\n",
    "print(True+False)   # This will print 1 since True is treated as 1 and False as 0\n",
    "print(False+False)  # This will print 0 since both are False"
   ]
  },
  {
   "cell_type": "markdown",
   "id": "58dc71a1",
   "metadata": {},
   "source": [
    "# Demonstrating string operations"
   ]
  },
  {
   "cell_type": "code",
   "execution_count": 36,
   "id": "6898c555",
   "metadata": {},
   "outputs": [
    {
     "name": "stdout",
     "output_type": "stream",
     "text": [
      "Sa\n",
      "SSS\n"
     ]
    }
   ],
   "source": [
    "\n",
    "print(\"S\"+\"a\") # This will print \"Sa\" since it concatenates the two strings\n",
    "print(\"S\"*3)   # This will print \"SSS\" since it repeats the string 3 times"
   ]
  },
  {
   "cell_type": "markdown",
   "id": "0225fe2c",
   "metadata": {},
   "source": [
    "# Demonstrating string indexing and slicing"
   ]
  },
  {
   "cell_type": "code",
   "execution_count": 37,
   "id": "ac7e55a9",
   "metadata": {},
   "outputs": [
    {
     "name": "stdout",
     "output_type": "stream",
     "text": [
      "A\n",
      "a\n",
      "a\n",
      "a\n",
      "Aadit\n",
      " Singh Naruka\n"
     ]
    },
    {
     "data": {
      "text/plain": [
       "'Aaditya Singh Naruka'"
      ]
     },
     "execution_count": 37,
     "metadata": {},
     "output_type": "execute_result"
    }
   ],
   "source": [
    "\n",
    "s = \"Aaditya Singh Naruka\"\n",
    "print(s[0])         # This will print 'C', the first character of the string\n",
    "print(s[1])         # This will print 'h', the second character of the string\n",
    "print(s[6])         # This will print ' ', the seventh character of the string\n",
    "print(s[-1])        # This will print 'l', the last character of the string\n",
    "print(s[0:5])       # This will print 'Chira', the first five characters of the string\n",
    "print(s[7:])        # This will print 'Agrawal', from the eigth character to the end\n",
    "#s[0] = \"D\"          # This will raise an error since strings are immutable in Python\n",
    "s.replace(\"C\", \"D\") # This will replace 'C' with 'D' in the string, but does not modify the original string"
   ]
  },
  {
   "cell_type": "markdown",
   "id": "10934ecf",
   "metadata": {},
   "source": [
    "# Demonstrating complex numbers"
   ]
  },
  {
   "cell_type": "code",
   "execution_count": 38,
   "id": "d33a80f1",
   "metadata": {},
   "outputs": [
    {
     "name": "stdout",
     "output_type": "stream",
     "text": [
      "(3+5j)\n"
     ]
    }
   ],
   "source": [
    "\n",
    "x=3+5j\n",
    "print(x)  # This will print the complex number (3+5j)"
   ]
  },
  {
   "cell_type": "markdown",
   "id": "0f542ba0",
   "metadata": {},
   "source": [
    "# Demonstrating list operations"
   ]
  },
  {
   "cell_type": "code",
   "execution_count": 39,
   "id": "64a3766b",
   "metadata": {},
   "outputs": [
    {
     "name": "stdout",
     "output_type": "stream",
     "text": [
      "[1, 2, 3, 4, 'Aaditya', [1, 2, 3, 4]]\n",
      "1\n",
      "Aaditya\n",
      "[1, 2, 3, 4]\n",
      "4\n"
     ]
    }
   ],
   "source": [
    "\n",
    "list_1 = [1, 2, 3, 4, \"Aaditya\", [1, 2, 3, 4]]  # A simple list of integers\n",
    "print(list_1)      # This will print the entire list\n",
    "print(list_1[0])   # This will print the first element of the list, which is 1\n",
    "print(list_1[4])   # This will print the fifth element of the list, which is \"Chirag\"\n",
    "print(list_1[5])   # This will print the sixth element of the list, which is another list [1, 2, 3, 4]\n",
    "print(list_1[-3])  # This will print the third last element of the list, which is 4"
   ]
  },
  {
   "cell_type": "markdown",
   "id": "f31503fa",
   "metadata": {},
   "source": [
    "# Demonstrating tuple operations"
   ]
  },
  {
   "cell_type": "code",
   "execution_count": 40,
   "id": "9c4627ab",
   "metadata": {},
   "outputs": [
    {
     "name": "stdout",
     "output_type": "stream",
     "text": [
      "(1, 2, 3, 4, 'Aaditya', [1, 2, 3, 4])\n",
      "1\n",
      "Aaditya\n",
      "[1, 2, 3, 4]\n"
     ]
    }
   ],
   "source": [
    "\n",
    "tuple_1 = (1, 2, 3, 4, \"Aaditya\", [1, 2, 3, 4])  # A simple tuple of integers\n",
    "print(tuple_1)      # This will print the entire tuple\n",
    "print(tuple_1[0])   # This will print the first element of the tuple, which is 1\n",
    "print(tuple_1[4])   # This will print the fifth element of the tuple, which is \"Chirag\"\n",
    "print(tuple_1[5])   # This will print the sixth element of the tuple, which is another list [1, 2, 3, 4]\n",
    "type(tuple_1)       # This will print <class 'tuple'> since tuple_1 is a tuple\n",
    "tuple_2=(7)         # This is not a tuple, it's just an integer\n",
    "type(tuple_2)       # This will print <class 'int'> since tuple_2 is not a tuple but an integer\n",
    "tuple_3=(7,)        # This is a tuple with one element"
   ]
  },
  {
   "cell_type": "markdown",
   "id": "a5650eee",
   "metadata": {},
   "source": [
    "# Demonstrating set operations"
   ]
  },
  {
   "cell_type": "code",
   "execution_count": 41,
   "id": "f1d4ecca",
   "metadata": {},
   "outputs": [
    {
     "name": "stdout",
     "output_type": "stream",
     "text": [
      "{(1, 2, 3, 4), 1, 2, 3, 4, 'Aaditya'}\n",
      "True\n",
      "False\n"
     ]
    }
   ],
   "source": [
    "\n",
    "set_1 = {1, 2, 3, 4, \"Aaditya\", (1, 2, 3, 4)}#[1, 2, 3, 4]}  # A simple set of integers and a tuple and a list\n",
    "# Note: Sets do not allow mutable types like lists, so the list will be ignored\n",
    "print(set_1)       # This will print the entire set\n",
    "print(1 in set_1)  # This will print True since 1 is in the set\n",
    "print(5 in set_1)  # This will print False since 5 is not in the set\n",
    "# print(set_1[0])    # This will raise an error since sets do not support indexing"
   ]
  },
  {
   "cell_type": "code",
   "execution_count": 42,
   "id": "e3f68b6e",
   "metadata": {},
   "outputs": [
    {
     "name": "stdout",
     "output_type": "stream",
     "text": [
      "11\n",
      "5\n",
      "5     6\n",
      "chirag aaditya\n",
      "chirag-->aaditya\n"
     ]
    }
   ],
   "source": [
    "a=5\n",
    "b=6\n",
    "c=a+b\n",
    "print(c)\n",
    "print(a)\n",
    "print(a,end=\"     \")\n",
    "print(b)\n",
    "s=\"chirag\"\n",
    "v=\"aaditya\"\n",
    "print(s,v)\n",
    "print(s,v,sep=\"-->\")"
   ]
  },
  {
   "cell_type": "markdown",
   "id": "f422353d",
   "metadata": {},
   "source": [
    "# Demonstration of for loop"
   ]
  },
  {
   "cell_type": "code",
   "execution_count": 43,
   "id": "b00cc413",
   "metadata": {},
   "outputs": [
    {
     "name": "stdout",
     "output_type": "stream",
     "text": [
      "A hi\n",
      "a hi\n",
      "d hi\n",
      "i hi\n",
      "t hi\n",
      "y hi\n",
      "a hi\n",
      "1\n",
      "2\n",
      "3\n",
      "4\n",
      "5\n",
      "1\n",
      "2\n",
      "3\n",
      "4\n",
      "range(1, 10)\n",
      "[1, 2, 3, 4, 5, 6, 7, 8, 9]\n",
      "(1, 2, 3, 4, 5, 6, 7, 8, 9)\n",
      "[1, 2, 3, 4, 5, 6, 7, 8, 9]\n",
      "(1, 2, 3, 4, 5, 6, 7, 8, 9)\n"
     ]
    }
   ],
   "source": [
    "for word in \"Aaditya\":\n",
    "    print(word,\"hi\")       # This will print each character in the string \"Chirag\" followed by \"hi\"\n",
    "\n",
    "for ele in [1, 2, 3, 4, 5]:    \n",
    "    print(ele)             # This will print each element in the list [1, 2, 3, 4, 5]\n",
    "    \n",
    "#for digit in 1234567890:\n",
    "#   print(digit)           # This will raise an error since integers are not iterable, we need to convert it to a string first\n",
    "\n",
    "for ele in range(1,5):\n",
    "    print(ele)             # This will print numbers from 1 to 4 (5 is not included)\n",
    "    \n",
    "# range(start,stop,step-size)\n",
    "\n",
    "d=range(1,10)  # This will create a range object from 1 to 9\n",
    "print(d)          # This will print the range object, which is not very informative\n",
    "print(list(d))    # This will convert the range object to a list and print it, which will show [1, 2, 3, 4, 5, 6, 7, 8, 9]\n",
    "print(tuple(d))   # This will convert the range object to a tuple and print it, which will show (1, 2, 3, 4, 5, 6, 7, 8, 9)\n",
    "print([*d])             # This will unpack the range object into a list, which will show [1, 2, 3, 4, 5, 6, 7, 8, 9]\n",
    "print((*d,))            # This will unpack the range object into a tuple, which will show (1, 2, 3, 4, 5, 6, 7, 8, 9)"
   ]
  },
  {
   "cell_type": "markdown",
   "id": "e47874a4",
   "metadata": {},
   "source": [
    "Demonstration of while loop"
   ]
  },
  {
   "cell_type": "code",
   "execution_count": 44,
   "id": "14ec8544",
   "metadata": {},
   "outputs": [
    {
     "name": "stdout",
     "output_type": "stream",
     "text": [
      "hii\n",
      "hii\n",
      "hii\n",
      "hii\n"
     ]
    }
   ],
   "source": [
    "num=1\n",
    "while num<5:\n",
    "    print(\"hii\")\n",
    "    num+=1"
   ]
  },
  {
   "cell_type": "markdown",
   "id": "832b9de2",
   "metadata": {},
   "source": [
    "Demonstration of break statement"
   ]
  },
  {
   "cell_type": "code",
   "execution_count": 45,
   "id": "23803c3c",
   "metadata": {},
   "outputs": [
    {
     "name": "stdout",
     "output_type": "stream",
     "text": [
      "hii\n"
     ]
    }
   ],
   "source": [
    "for i in range(1,10):\n",
    "    print(\"hii\")\n",
    "    break"
   ]
  },
  {
   "cell_type": "markdown",
   "id": "2f8c2546",
   "metadata": {},
   "source": [
    "Demonstration of continue statement"
   ]
  },
  {
   "cell_type": "code",
   "execution_count": 46,
   "id": "fb7063a9",
   "metadata": {},
   "outputs": [
    {
     "name": "stdout",
     "output_type": "stream",
     "text": [
      "hii\n",
      "hii\n",
      "hii\n",
      "hii\n",
      "hii\n",
      "hii\n",
      "hii\n",
      "hii\n",
      "hii\n"
     ]
    }
   ],
   "source": [
    "for i in range(1,10):\n",
    "    print(\"hii\")\n",
    "    continue"
   ]
  },
  {
   "cell_type": "markdown",
   "id": "8f21039e",
   "metadata": {},
   "source": [
    "Demonstration of continue statement"
   ]
  },
  {
   "cell_type": "code",
   "execution_count": 47,
   "id": "5337c9a1",
   "metadata": {},
   "outputs": [
    {
     "name": "stdout",
     "output_type": "stream",
     "text": [
      "1\n",
      "3\n"
     ]
    }
   ],
   "source": [
    "for i in range(1,10):\n",
    "    continue\n",
    "    print(\"hii\")\n",
    "for i in range(1,4):\n",
    "    if i==2:\n",
    "        continue\n",
    "    print(i)    "
   ]
  },
  {
   "cell_type": "markdown",
   "id": "2c4bbbaf",
   "metadata": {},
   "source": [
    "Use of random module"
   ]
  },
  {
   "cell_type": "code",
   "execution_count": 48,
   "id": "50f347b7",
   "metadata": {},
   "outputs": [
    {
     "name": "stdout",
     "output_type": "stream",
     "text": [
      "4\n"
     ]
    }
   ],
   "source": [
    "import random                                       #Random generates a random value each time\n",
    "a=random.randint(1,10)                              #Randint generates a random integer between the given limit each time we run it            \n",
    "print(a)"
   ]
  },
  {
   "cell_type": "markdown",
   "id": "4e136753",
   "metadata": {},
   "source": [
    "Number Guessing game"
   ]
  },
  {
   "cell_type": "code",
   "execution_count": 49,
   "id": "95accfca",
   "metadata": {},
   "outputs": [
    {
     "name": "stdout",
     "output_type": "stream",
     "text": [
      "Move down, the number is greater than the original number\n",
      "Move down, the number is greater than the original number\n",
      "Move down, the number is greater than the original number\n",
      "Move down, the number is greater than the original number\n",
      "Move down, the number is greater than the original number\n",
      "Move down, the number is greater than the original number\n",
      "Move down, the number is greater than the original number\n",
      "Move down, the number is greater than the original number\n",
      "Move down, the number is greater than the original number\n",
      "Move down, the number is greater than the original number\n",
      "Move down, the number is greater than the original number\n",
      "Move down, the number is greater than the original number\n",
      "Move down, the number is greater than the original number\n",
      "Move down, the number is greater than the original number\n",
      "Move up, the number is lesser than the original number\n",
      "Move up, the number is lesser than the original number\n",
      "Move up, the number is lesser than the original number\n",
      "Move down, the number is greater than the original number\n",
      "Congratulations, You guessed the number correctly\n"
     ]
    }
   ],
   "source": [
    "import random\n",
    "num=random.randint(1,100)\n",
    "guess=int(input(\"Guess the number between 1 and 100:\\t\"))\n",
    "while guess!=num:\n",
    "    if guess>num:\n",
    "        print(\"Move down, the number is greater than the original number\")\n",
    "    else:\n",
    "        print(\"Move up, the number is lesser than the original number\")\n",
    "    guess=int(input(\"Guess the number:\\t\"))\n",
    "print(\"Congratulations, You guessed the number correctly\")"
   ]
  },
  {
   "cell_type": "code",
   "execution_count": 50,
   "id": "0386243b",
   "metadata": {},
   "outputs": [
    {
     "name": "stdout",
     "output_type": "stream",
     "text": [
      "Number guessing game\n",
      "Move down, the number is greater than the original number\n",
      "Number guessing game\n",
      "Move down, the number is greater than the original number\n",
      "Number guessing game\n",
      "Move up, the number is lesser than the original number\n",
      "Number guessing game\n",
      "Move down, the number is greater than the original number\n",
      "Number guessing game\n",
      "Move down, the number is greater than the original number\n"
     ]
    }
   ],
   "source": [
    "import random\n",
    "num=random.randint(1,100)\n",
    "counter=0\n",
    "while True:\n",
    "    print(\"Number guessing game\")\n",
    "    guess=int(input(\"Guess the number between 1 and 100:\\t\"))\n",
    "    if guess==num:\n",
    "        print(\"Congratulations, You guessed the number correctly\")\n",
    "        break\n",
    "    elif guess>num:\n",
    "        print(\"Move down, the number is greater than the original number\")\n",
    "        counter+=1\n",
    "    elif guess<num:\n",
    "        print(\"Move up, the number is lesser than the original number\")\n",
    "        counter+=1\n",
    "    if counter==5:\n",
    "        break"
   ]
  },
  {
   "cell_type": "markdown",
   "id": "e7e1fe0e",
   "metadata": {},
   "source": [
    "Reverse of a number without swapping\n"
   ]
  },
  {
   "cell_type": "code",
   "execution_count": 51,
   "id": "cc6efe46",
   "metadata": {},
   "outputs": [
    {
     "name": "stdout",
     "output_type": "stream",
     "text": [
      "The number before reverse is 14\n",
      "41\n"
     ]
    }
   ],
   "source": [
    "#reverse of a number\n",
    "num=int(input(\"Enter a number:\\t\"))\n",
    "print(\"The number before reverse is\", num)\n",
    "rev=0\n",
    "while num>0:\n",
    "    mod=num%10\n",
    "    rev=rev*10+mod\n",
    "    num=num//10\n",
    "print(rev)"
   ]
  },
  {
   "cell_type": "markdown",
   "id": "bf7fe349",
   "metadata": {},
   "source": [
    "Palindrome"
   ]
  },
  {
   "cell_type": "code",
   "execution_count": 52,
   "id": "ad227f17",
   "metadata": {},
   "outputs": [
    {
     "name": "stdout",
     "output_type": "stream",
     "text": [
      "14\n",
      "The word is not palindrome\n"
     ]
    }
   ],
   "source": [
    "word=input(\"Enter a word:\\t\")\n",
    "print(word)\n",
    "if word==word[::-1]:\n",
    "    print(\"The word is palindrome\")\n",
    "else:\n",
    "    print(\"The word is not palindrome\")"
   ]
  },
  {
   "cell_type": "markdown",
   "id": "16a84186",
   "metadata": {},
   "source": [
    "palindrome using len function"
   ]
  },
  {
   "cell_type": "code",
   "execution_count": 53,
   "id": "352680d4",
   "metadata": {},
   "outputs": [
    {
     "name": "stdout",
     "output_type": "stream",
     "text": [
      "kjanfjw\n",
      "The word is not palindrome\n"
     ]
    }
   ],
   "source": [
    "#to check wether a word is palindrome or not\n",
    "word=input(\"Enter a word:\\t\")\n",
    "print(word)\n",
    "rev=\"\"\n",
    "for i in range(len(word)-1,-1,-1):\n",
    "    rev=rev+word[i]\n",
    "if word==rev:\n",
    "    print(\"The word is palindrome\")\n",
    "else:\n",
    "    print(\"The word is not palindrome\")"
   ]
  },
  {
   "cell_type": "markdown",
   "id": "7928c234",
   "metadata": {},
   "source": [
    "Unique way for palindrome"
   ]
  },
  {
   "cell_type": "code",
   "execution_count": 63,
   "id": "2941bdce",
   "metadata": {},
   "outputs": [
    {
     "name": "stdout",
     "output_type": "stream",
     "text": [
      "madam\n",
      "The word is a palindrome.\n"
     ]
    }
   ],
   "source": [
    "word = input(\"Enter a word to check if it is a palindrome: \")\n",
    "print(word)\n",
    "reversed_word = \"\"\n",
    "for char in word:                         # This will iterate through each character in the word\n",
    "    reversed_word = char + reversed_word  # This will prepend the character to the reversed word\n",
    "if word == reversed_word:                 # This will check if the original word is equal to the reversed word\n",
    "    print(\"The word is a palindrome.\")\n",
    "else:\n",
    "    print(\"The word is not a palindrome.\")"
   ]
  },
  {
   "cell_type": "markdown",
   "id": "a588d73a",
   "metadata": {},
   "source": [
    "List"
   ]
  },
  {
   "cell_type": "code",
   "execution_count": 64,
   "id": "2f403a8a",
   "metadata": {},
   "outputs": [
    {
     "name": "stdout",
     "output_type": "stream",
     "text": [
      "1\n",
      "xy\n",
      "c\n",
      "z\n"
     ]
    }
   ],
   "source": [
    "list45=[\"a\",\"b\",1,2,3,4,5,\"xy\"]\n",
    "print(list45[2])                                   #positive indexing\n",
    "print(list45[-1])                                  #negative indexing\n",
    "list45[2]=\"c\"                                      #mutability of list\n",
    "print(list45[2]) \n",
    "list45[-1]=\"z\"\n",
    "print(list45[-1]) "
   ]
  },
  {
   "cell_type": "code",
   "execution_count": 65,
   "id": "d7693587",
   "metadata": {},
   "outputs": [
    {
     "name": "stdout",
     "output_type": "stream",
     "text": [
      "['a', 'b', 'c', 2, 3, 4]\n",
      "['a', 'c', 3]\n",
      "['z', 5, 4, 3, 2, 'c', 'b', 'a']\n",
      "['z', 5, 4, 3]\n",
      "[2, 3, 4, 5]\n"
     ]
    }
   ],
   "source": [
    "print(list45[0:6])                                 #Slicing\n",
    "print(list45[0:6:2])                               #Slicing with step size\n",
    "print(list45[::-1])                                #Reversing\n",
    "print(list45[-1:-5:-1])                            #Reversing with step size\n",
    "print(list45[-5:-1])                               #positive indexing with negative indexes"
   ]
  },
  {
   "cell_type": "code",
   "execution_count": 66,
   "id": "66ff2e18",
   "metadata": {},
   "outputs": [
    {
     "name": "stdout",
     "output_type": "stream",
     "text": [
      "None\n",
      "['a', 'b', 'c', 2, 3, 4, 5, 'z', [90, 99]]\n",
      "None\n",
      "['a', 'b', 'c', 2, 3, 4, 5, 'z', [90, 99], 100, 101]\n",
      "['a', 'b', 'c', 2, 3, 4, 5, 'z', [90, 99], 100, 101, 'x', 'y']\n"
     ]
    }
   ],
   "source": [
    "print(list45.append([90,99]))                      #Append function\n",
    "print(list45)\n",
    "print(list45.extend([100,101]))                    #Extend function\n",
    "print(list45)\n",
    "list45=list45+[\"x\",\"y\"]                             #Concatenation\n",
    "print(list45)"
   ]
  },
  {
   "cell_type": "code",
   "execution_count": 67,
   "id": "39e43528",
   "metadata": {},
   "outputs": [
    {
     "name": "stdout",
     "output_type": "stream",
     "text": [
      "y\n",
      "['a', 'b', 'c', 2, 3, 4, 5, 'z', [90, 99], 100, 101, 'x']\n",
      "['b', 'c', 2, 3, 4, 5, 'z', [90, 99], 100, 101, 'x']\n",
      "0\n",
      "0\n"
     ]
    }
   ],
   "source": [
    "popped_element=list45.pop()                        #pop function\n",
    "print(popped_element)\n",
    "print(list45)\n",
    "list45.remove(\"a\")                                 #Remove function\n",
    "print(list45)\n",
    "print(list45.index(\"b\"))                           #Index function\n",
    "print(list45.count(1))                             #Count function"
   ]
  },
  {
   "cell_type": "code",
   "execution_count": 68,
   "id": "4ae75f82",
   "metadata": {},
   "outputs": [
    {
     "name": "stdout",
     "output_type": "stream",
     "text": [
      "['c', 2, 3, 4, 5, 'z', [90, 99], 100, 101, 'x']\n"
     ]
    }
   ],
   "source": [
    "del(list45[0])                                     #Delete function\n",
    "print(list45)"
   ]
  },
  {
   "cell_type": "code",
   "execution_count": 76,
   "id": "e8ce0ac8",
   "metadata": {},
   "outputs": [
    {
     "name": "stdout",
     "output_type": "stream",
     "text": [
      "[1, 2, 3, 4, 5, 6, 7, 8, 9]\n",
      "[1, 4, 9, 16, 25, 36, 49, 64, 81]\n",
      "[4, 16, 36, 64]\n",
      "['odd', 'even', 'odd', 'even', 'odd', 'even', 'odd', 'even', 'odd']\n"
     ]
    }
   ],
   "source": [
    "new_list=list(range(1,10))\n",
    "print(new_list)\n",
    "square_list=[i**2 for i in new_list]               #List comprehension\n",
    "print(square_list)\n",
    "even_square_list=[i**2 for i in new_list if i%2==0] #List comprehension\n",
    "print(even_square_list)\n",
    "even_odd_square_list=[\"even\" if i%2==0 else \"odd\" for i in new_list] #List comprehension\n",
    "print(even_odd_square_list)"
   ]
  },
  {
   "cell_type": "code",
   "execution_count": 81,
   "id": "0f1c2fdf",
   "metadata": {},
   "outputs": [
    {
     "name": "stdout",
     "output_type": "stream",
     "text": [
      "[[1, 2, 3], ['a', 'b', 'c']]\n",
      "[1, 2, 3, 'a', 'b', 'c']\n"
     ]
    }
   ],
   "source": [
    "list_packed=[[1,2,3],[\"a\",\"b\",\"c\"]]\n",
    "print(list_packed)\n",
    "list_unpacked=list_packed[0]+list_packed[1]\n",
    "print(list_unpacked)"
   ]
  },
  {
   "cell_type": "code",
   "execution_count": 84,
   "id": "8d0d858e",
   "metadata": {},
   "outputs": [
    {
     "name": "stdout",
     "output_type": "stream",
     "text": [
      "50\n"
     ]
    }
   ],
   "source": [
    "x=50\n",
    "def test():\n",
    "    print(x)\n",
    "test()    \n",
    "    "
   ]
  },
  {
   "cell_type": "code",
   "execution_count": 85,
   "id": "f1180743",
   "metadata": {},
   "outputs": [
    {
     "name": "stdout",
     "output_type": "stream",
     "text": [
      "60\n"
     ]
    }
   ],
   "source": [
    "x=50\n",
    "def test():\n",
    "    #x=x+10              it will show error because x is local variable and we're attempting to modify global variable\n",
    "    global x              #to modify global variable\n",
    "    x=x+10\n",
    "    print(x)\n",
    "test()    \n",
    "    "
   ]
  },
  {
   "cell_type": "code",
   "execution_count": 88,
   "id": "463eef72",
   "metadata": {},
   "outputs": [
    {
     "name": "stdout",
     "output_type": "stream",
     "text": [
      "9\n"
     ]
    }
   ],
   "source": [
    "def test2(x,y):\n",
    "    print(x+y)\n",
    "#test2()                            #error beacause of missing arguments\n",
    "test2(4,5)"
   ]
  },
  {
   "cell_type": "code",
   "execution_count": null,
   "id": "29ef5c88",
   "metadata": {},
   "outputs": [],
   "source": []
  }
 ],
 "metadata": {
  "kernelspec": {
   "display_name": "Python 3",
   "language": "python",
   "name": "python3"
  },
  "language_info": {
   "codemirror_mode": {
    "name": "ipython",
    "version": 3
   },
   "file_extension": ".py",
   "mimetype": "text/x-python",
   "name": "python",
   "nbconvert_exporter": "python",
   "pygments_lexer": "ipython3",
   "version": "3.11.5"
  }
 },
 "nbformat": 4,
 "nbformat_minor": 5
}
