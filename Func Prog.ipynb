{
 "cells": [
  {
   "cell_type": "code",
   "execution_count": 2,
   "id": "62b88722",
   "metadata": {},
   "outputs": [],
   "source": [
    "def test(x,y):\n",
    "    return x+y\n",
    "def function_3(a,b,function):\n",
    "    return 3*function(a,b)"
   ]
  },
  {
   "cell_type": "code",
   "execution_count": 3,
   "id": "5d4b9bb7",
   "metadata": {},
   "outputs": [
    {
     "data": {
      "text/plain": [
       "21"
      ]
     },
     "execution_count": 3,
     "metadata": {},
     "output_type": "execute_result"
    }
   ],
   "source": [
    "function_3(3,4,test)"
   ]
  },
  {
   "cell_type": "code",
   "execution_count": 4,
   "id": "e68bbef6",
   "metadata": {},
   "outputs": [
    {
     "data": {
      "text/plain": [
       "21"
      ]
     },
     "execution_count": 4,
     "metadata": {},
     "output_type": "execute_result"
    }
   ],
   "source": [
    "function_3(3,4,lambda x,y:x+y)"
   ]
  },
  {
   "cell_type": "code",
   "execution_count": 5,
   "id": "1a6593c4",
   "metadata": {},
   "outputs": [],
   "source": [
    "def square(x):\n",
    "    return x*x"
   ]
  },
  {
   "cell_type": "code",
   "execution_count": 6,
   "id": "be20e80c",
   "metadata": {},
   "outputs": [],
   "source": [
    "l=[2,3,4,5]"
   ]
  },
  {
   "cell_type": "code",
   "execution_count": 7,
   "id": "4a0612b4",
   "metadata": {},
   "outputs": [
    {
     "data": {
      "text/plain": [
       "[4, 9, 16, 25]"
      ]
     },
     "execution_count": 7,
     "metadata": {},
     "output_type": "execute_result"
    }
   ],
   "source": [
    "list(map(square,l))"
   ]
  },
  {
   "cell_type": "markdown",
   "id": "2d93d917",
   "metadata": {},
   "source": [
    "map function"
   ]
  },
  {
   "cell_type": "code",
   "execution_count": 8,
   "id": "884ba579",
   "metadata": {},
   "outputs": [
    {
     "data": {
      "text/plain": [
       "[4, 9, 16, 25]"
      ]
     },
     "execution_count": 8,
     "metadata": {},
     "output_type": "execute_result"
    }
   ],
   "source": [
    "list(map(lambda x:x*x,l))"
   ]
  },
  {
   "cell_type": "code",
   "execution_count": 9,
   "id": "32a90f69",
   "metadata": {},
   "outputs": [],
   "source": [
    "l1=[\" sa\",\"Ah \"]"
   ]
  },
  {
   "cell_type": "code",
   "execution_count": 11,
   "id": "a158b7d6",
   "metadata": {},
   "outputs": [
    {
     "data": {
      "text/plain": [
       "[5, 7, 9]"
      ]
     },
     "execution_count": 11,
     "metadata": {},
     "output_type": "execute_result"
    }
   ],
   "source": [
    "list(map(lambda x,y: x+y, [1,2,3],[4,5,6]))"
   ]
  },
  {
   "cell_type": "markdown",
   "id": "7c3997ca",
   "metadata": {},
   "source": [
    "filter function"
   ]
  },
  {
   "cell_type": "code",
   "execution_count": 13,
   "id": "0ef0c9ca",
   "metadata": {},
   "outputs": [
    {
     "data": {
      "text/plain": [
       "[70, 80, 90]"
      ]
     },
     "execution_count": 13,
     "metadata": {},
     "output_type": "execute_result"
    }
   ],
   "source": [
    " \n",
    "list(filter(lambda x:x>50, [70, 80, 90]))"
   ]
  },
  {
   "cell_type": "code",
   "execution_count": 14,
   "id": "b7f057c3",
   "metadata": {},
   "outputs": [
    {
     "data": {
      "text/plain": [
       "[2, 4, 6, 8, 10]"
      ]
     },
     "execution_count": 14,
     "metadata": {},
     "output_type": "execute_result"
    }
   ],
   "source": [
    "lst= [1,2,3,4,5,6,7,8,9,10]\n",
    "list(filter(lambda x:x%2==0,lst))"
   ]
  },
  {
   "cell_type": "code",
   "execution_count": 15,
   "id": "1d5f634a",
   "metadata": {},
   "outputs": [],
   "source": [
    "student_name= [\"Anurag\",\"ravi\",\"pankaj\",\"jitendra\",\"Pawan\"]"
   ]
  },
  {
   "cell_type": "code",
   "execution_count": 16,
   "id": "b299448e",
   "metadata": {},
   "outputs": [
    {
     "data": {
      "text/plain": [
       "['Anurag', 'ravi', 'jitendra']"
      ]
     },
     "execution_count": 16,
     "metadata": {},
     "output_type": "execute_result"
    }
   ],
   "source": [
    "list(filter(lambda x: (x[0]!=\"p\") and (x[0]!=\"P\"),student_name))"
   ]
  },
  {
   "cell_type": "code",
   "execution_count": null,
   "id": "fa88dac7",
   "metadata": {},
   "outputs": [
    {
     "data": {
      "text/plain": [
       "True"
      ]
     },
     "execution_count": 18,
     "metadata": {},
     "output_type": "execute_result"
    }
   ],
   "source": [
    "\"a\" in \"Anurag\"                  # membership operator"
   ]
  },
  {
   "cell_type": "code",
   "execution_count": 19,
   "id": "15c0c6b9",
   "metadata": {},
   "outputs": [
    {
     "data": {
      "text/plain": [
       "['jitendra']"
      ]
     },
     "execution_count": 19,
     "metadata": {},
     "output_type": "execute_result"
    }
   ],
   "source": [
    "list(filter(lambda x:\"e\" in x, student_name))"
   ]
  },
  {
   "cell_type": "code",
   "execution_count": 20,
   "id": "1d2df0c3",
   "metadata": {},
   "outputs": [],
   "source": [
    "from functools import reduce"
   ]
  },
  {
   "cell_type": "code",
   "execution_count": 21,
   "id": "cf57e414",
   "metadata": {},
   "outputs": [
    {
     "data": {
      "text/plain": [
       "15"
      ]
     },
     "execution_count": 21,
     "metadata": {},
     "output_type": "execute_result"
    }
   ],
   "source": [
    "reduce(lambda x,y:x+y,[1,2,3,4,5])"
   ]
  },
  {
   "cell_type": "code",
   "execution_count": 22,
   "id": "4b872377",
   "metadata": {},
   "outputs": [],
   "source": [
    "lst=[\"Chirag\", \"Jala diya\", \"kisi ko\"]"
   ]
  },
  {
   "cell_type": "code",
   "execution_count": 24,
   "id": "3657b4db",
   "metadata": {},
   "outputs": [
    {
     "data": {
      "text/plain": [
       "22"
      ]
     },
     "execution_count": 24,
     "metadata": {},
     "output_type": "execute_result"
    }
   ],
   "source": [
    "reduce(lambda x,y:len(x) + len(y) if type(x) is str else x+ len(y), lst)"
   ]
  },
  {
   "cell_type": "code",
   "execution_count": 25,
   "id": "ca78681b",
   "metadata": {},
   "outputs": [],
   "source": [
    "data = [\n",
    "    {\"name\": \"Rohit\", \"amount\": 500, \"status\": \"success\"},\n",
    "    {\"name\": \"Priya\", \"amount\": 1200, \"status\": \"failed\"},\n",
    "    {\"name\": \"Aman\", \"amount\": 700, \"status\": \"success\"},\n",
    "    {\"name\": \"Neha\", \"amount\": 1500, \"status\": \"pending\"},\n",
    "    {\"name\": \"Rahul\", \"amount\": 300, \"status\": \"success\"},\n",
    "    {\"name\": \"Sita\", \"amount\": 2000, \"status\": \"failed\"},\n",
    "    {\"name\": \"Arjun\", \"amount\": 950, \"status\": \"success\"}\n",
    "]"
   ]
  },
  {
   "cell_type": "code",
   "execution_count": 40,
   "id": "5c70768e",
   "metadata": {},
   "outputs": [
    {
     "name": "stdout",
     "output_type": "stream",
     "text": [
      "[{'name': 'Rohit', 'amount': 500, 'status': 'success'}, {'name': 'Aman', 'amount': 700, 'status': 'success'}, {'name': 'Rahul', 'amount': 300, 'status': 'success'}, {'name': 'Arjun', 'amount': 950, 'status': 'success'}]\n",
      "[500, 700, 300, 950]\n"
     ]
    },
    {
     "data": {
      "text/plain": [
       "2450"
      ]
     },
     "execution_count": 40,
     "metadata": {},
     "output_type": "execute_result"
    }
   ],
   "source": [
    "success_data=list(filter(lambda x:x[\"status\"]==\"success\",data))\n",
    "A=list(map(lambda x:x[\"amount\"],filter(lambda x:x[\"status\"]==\"success\",data)))\n",
    "print(success_data)\n",
    "print(A)\n",
    "reduce(lambda x,y:x+y,A)"
   ]
  },
  {
   "cell_type": "code",
   "execution_count": null,
   "id": "7e436e7e",
   "metadata": {},
   "outputs": [],
   "source": []
  }
 ],
 "metadata": {
  "kernelspec": {
   "display_name": "Python 3",
   "language": "python",
   "name": "python3"
  },
  "language_info": {
   "codemirror_mode": {
    "name": "ipython",
    "version": 3
   },
   "file_extension": ".py",
   "mimetype": "text/x-python",
   "name": "python",
   "nbconvert_exporter": "python",
   "pygments_lexer": "ipython3",
   "version": "3.11.5"
  }
 },
 "nbformat": 4,
 "nbformat_minor": 5
}
