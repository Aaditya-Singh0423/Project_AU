{
 "cells": [
  {
   "cell_type": "code",
   "execution_count": 1,
   "id": "62b88722",
   "metadata": {},
   "outputs": [],
   "source": [
    "def test(x,y):\n",
    "    return x+y\n",
    "def function_3(a,b,function):\n",
    "    return 3*function(a,b)"
   ]
  },
  {
   "cell_type": "code",
   "execution_count": 2,
   "id": "5d4b9bb7",
   "metadata": {},
   "outputs": [
    {
     "data": {
      "text/plain": [
       "21"
      ]
     },
     "execution_count": 2,
     "metadata": {},
     "output_type": "execute_result"
    }
   ],
   "source": [
    "function_3(3,4,test)"
   ]
  },
  {
   "cell_type": "code",
   "execution_count": 3,
   "id": "e68bbef6",
   "metadata": {},
   "outputs": [
    {
     "data": {
      "text/plain": [
       "21"
      ]
     },
     "execution_count": 3,
     "metadata": {},
     "output_type": "execute_result"
    }
   ],
   "source": [
    "function_3(3,4,lambda x,y:x+y)"
   ]
  },
  {
   "cell_type": "code",
   "execution_count": 1,
   "id": "1a6593c4",
   "metadata": {},
   "outputs": [],
   "source": [
    "def square(x):\n",
    "    return x*x"
   ]
  },
  {
   "cell_type": "code",
   "execution_count": 3,
   "id": "be20e80c",
   "metadata": {},
   "outputs": [],
   "source": [
    "l=[2,3,4,5]"
   ]
  },
  {
   "cell_type": "code",
   "execution_count": 5,
   "id": "4a0612b4",
   "metadata": {},
   "outputs": [
    {
     "data": {
      "text/plain": [
       "[4, 9, 16, 25]"
      ]
     },
     "execution_count": 5,
     "metadata": {},
     "output_type": "execute_result"
    }
   ],
   "source": [
    "list(map(square,l))"
   ]
  },
  {
   "cell_type": "code",
   "execution_count": 6,
   "id": "884ba579",
   "metadata": {},
   "outputs": [
    {
     "data": {
      "text/plain": [
       "[4, 9, 16, 25]"
      ]
     },
     "execution_count": 6,
     "metadata": {},
     "output_type": "execute_result"
    }
   ],
   "source": [
    "list(map(lambda x:x*x,l))"
   ]
  },
  {
   "cell_type": "code",
   "execution_count": 7,
   "id": "32a90f69",
   "metadata": {},
   "outputs": [],
   "source": [
    "l1=[\" sa\",\"Ah \"]"
   ]
  },
  {
   "cell_type": "code",
   "execution_count": 9,
   "id": "93e469bc",
   "metadata": {},
   "outputs": [
    {
     "data": {
      "text/plain": [
       "['sa', 'Ah']"
      ]
     },
     "execution_count": 9,
     "metadata": {},
     "output_type": "execute_result"
    }
   ],
   "source": [
    "list(map(lambda x:x.strip(),l1))"
   ]
  },
  {
   "cell_type": "code",
   "execution_count": null,
   "id": "8ad6faec",
   "metadata": {},
   "outputs": [],
   "source": [
    "name_marks1={\"a\":10,\"b\":20,\"c\":30}\n",
    "name_marks2={\"x\":100,\"y\":200,\"z\":300}"
   ]
  },
  {
   "cell_type": "code",
   "execution_count": 20,
   "id": "63b54bce",
   "metadata": {},
   "outputs": [
    {
     "data": {
      "text/plain": [
       "['a', 'b', 'c']"
      ]
     },
     "execution_count": 20,
     "metadata": {},
     "output_type": "execute_result"
    }
   ],
   "source": [
    "list(map(lambda x:x[0],name_marks1))"
   ]
  },
  {
   "cell_type": "code",
   "execution_count": 21,
   "id": "95023fa0",
   "metadata": {},
   "outputs": [
    {
     "data": {
      "text/plain": [
       "['a', 'b', 'c']"
      ]
     },
     "execution_count": 21,
     "metadata": {},
     "output_type": "execute_result"
    }
   ],
   "source": [
    "list(map(lambda x:x,name_marks2))"
   ]
  },
  {
   "cell_type": "code",
   "execution_count": 29,
   "id": "e021ba94",
   "metadata": {},
   "outputs": [
    {
     "data": {
      "text/plain": [
       "[10, 20, 30]"
      ]
     },
     "execution_count": 29,
     "metadata": {},
     "output_type": "execute_result"
    }
   ],
   "source": [
    "list(map(lambda x:name_marks1[x],name_marks1))"
   ]
  },
  {
   "cell_type": "code",
   "execution_count": 34,
   "id": "5c18f13e",
   "metadata": {},
   "outputs": [
    {
     "data": {
      "text/plain": [
       "[100, 200, 300]"
      ]
     },
     "execution_count": 34,
     "metadata": {},
     "output_type": "execute_result"
    }
   ],
   "source": [
    "list(map(lambda x:name_marks2[x],name_marks2))"
   ]
  },
  {
   "cell_type": "code",
   "execution_count": null,
   "id": "a158b7d6",
   "metadata": {},
   "outputs": [],
   "source": []
  }
 ],
 "metadata": {
  "kernelspec": {
   "display_name": "Python 3",
   "language": "python",
   "name": "python3"
  },
  "language_info": {
   "codemirror_mode": {
    "name": "ipython",
    "version": 3
   },
   "file_extension": ".py",
   "mimetype": "text/x-python",
   "name": "python",
   "nbconvert_exporter": "python",
   "pygments_lexer": "ipython3",
   "version": "3.11.5"
  }
 },
 "nbformat": 4,
 "nbformat_minor": 5
}
