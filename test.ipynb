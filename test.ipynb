{
 "cells": [
  {
   "cell_type": "markdown",
   "id": "1c8eae84",
   "metadata": {},
   "source": [
    "*Question 1*"
   ]
  },
  {
   "cell_type": "code",
   "execution_count": 13,
   "id": "fa4e1845",
   "metadata": {},
   "outputs": [
    {
     "name": "stdout",
     "output_type": "stream",
     "text": [
      "Data-Science-Mentorship-Program-By-CampusX\n"
     ]
    }
   ],
   "source": [
    "print(\"Data\",\"Science\",\"Mentorship\",\"Program\",\"By\",\"CampusX\", sep= \"-\")"
   ]
  },
  {
   "cell_type": "markdown",
   "id": "48b67298",
   "metadata": {},
   "source": [
    "Question 2  -   Celsius to Fahrenheit"
   ]
  },
  {
   "cell_type": "code",
   "execution_count": 15,
   "id": "09c89893",
   "metadata": {},
   "outputs": [
    {
     "name": "stdout",
     "output_type": "stream",
     "text": [
      "Temperature in Fahrenheit is\t\n",
      "131.0\n"
     ]
    }
   ],
   "source": [
    "Celsius = float(input(\"Temperature in Celsius:\\t\"))\n",
    "Fahrenheit = (Celsius*9/5)+32\n",
    "print(\"Temperature in Fahrenheit is\\t\")\n",
    "print(Fahrenheit)"
   ]
  },
  {
   "cell_type": "markdown",
   "id": "30dd2242",
   "metadata": {},
   "source": [
    "*Question 3 - User input and swapping of two numbers without special syntax*"
   ]
  },
  {
   "cell_type": "code",
   "execution_count": 25,
   "id": "0feed89a",
   "metadata": {},
   "outputs": [
    {
     "name": "stdout",
     "output_type": "stream",
     "text": [
      "Before swapping: a = 8, b = 5\n",
      "After swapping: a = 5, b = 8\n"
     ]
    }
   ],
   "source": [
    "a=input(\"Enter first number:\\t\")\n",
    "b=input(\"Enter second number:\\t\")\n",
    "print(f\"Before swapping: a = {a}, b = {b}\")\n",
    "temp = a\n",
    "a = b\n",
    "b = temp\n",
    "print(f\"After swapping: a = {a}, b = {b}\")"
   ]
  },
  {
   "cell_type": "markdown",
   "id": "c44fe41b",
   "metadata": {},
   "source": [
    "Question 4 - Find the euclidean distance between 2 coordinates taken from the user as input."
   ]
  },
  {
   "cell_type": "code",
   "execution_count": 28,
   "id": "f94578a3",
   "metadata": {},
   "outputs": [
    {
     "name": "stdout",
     "output_type": "stream",
     "text": [
      "The distance between (5, 8) and (9, 10) is 4.47213595499958\n"
     ]
    }
   ],
   "source": [
    "import math\n",
    "x1=int(input(\"Enter x1:\\t\"))\n",
    "x2=int(input(\"Enter x2:\\t\"))\n",
    "y1=int(input(\"Enter y1:\\t\"))\n",
    "y2=int(input(\"Enter y2:\\t\"))\n",
    "distance = math.sqrt((x2-x1)**2 + (y2-y1)**2)\n",
    "print(f\"The distance between ({x1}, {y1}) and ({x2}, {y2}) is {distance}\")"
   ]
  },
  {
   "cell_type": "markdown",
   "id": "4a51e3ab",
   "metadata": {},
   "source": [
    "Quetsion 5 - Write a program to find the simple interest when the value of principle,rate of interest and time period is provided by the user."
   ]
  },
  {
   "cell_type": "code",
   "execution_count": 1,
   "id": "421eb529",
   "metadata": {},
   "outputs": [
    {
     "name": "stdout",
     "output_type": "stream",
     "text": [
      "Simple Interest = 1.35\n"
     ]
    }
   ],
   "source": [
    "# Program to calculate Simple Interest\n",
    "\n",
    "# Taking inputs from the user\n",
    "principal = float(input(\"Enter the Principal amount: \"))\n",
    "rate = float(input(\"Enter the Rate of Interest (in %): \"))\n",
    "time = float(input(\"Enter the Time period (in years): \"))\n",
    "\n",
    "# Calculating Simple Interest\n",
    "simple_interest = (principal * rate * time) / 100\n",
    "\n",
    "# Displaying the result\n",
    "print(f\"Simple Interest = {simple_interest}\")\n"
   ]
  },
  {
   "cell_type": "markdown",
   "id": "bfa64d48",
   "metadata": {},
   "source": [
    "Question 6 - Write a program that will tell the number of dogs and chicken are there when the user will provide the value of total heads and legs."
   ]
  },
  {
   "cell_type": "code",
   "execution_count": 2,
   "id": "bd5935cb",
   "metadata": {},
   "outputs": [
    {
     "name": "stdout",
     "output_type": "stream",
     "text": [
      "Number of Dogs: 1\n",
      "Number of Chickens: 8\n"
     ]
    }
   ],
   "source": [
    "# Program to find number of dogs and chickens from heads and legs\n",
    "\n",
    "# Taking input from the user\n",
    "heads = int(input(\"Enter total number of heads: \"))\n",
    "legs = int(input(\"Enter total number of legs: \"))\n",
    "\n",
    "# Using equations:\n",
    "# dogs + chickens = heads\n",
    "# 4*dogs + 2*chickens = legs\n",
    "\n",
    "# Solving\n",
    "dogs = (legs - 2 * heads) // 2\n",
    "chickens = heads - dogs\n",
    "\n",
    "# Validity check\n",
    "if dogs < 0 or chickens < 0 or (4 * dogs + 2 * chickens) != legs:\n",
    "    print(\"No valid solution exists with given heads and legs.\")\n",
    "else:\n",
    "    print(f\"Number of Dogs: {dogs}\")\n",
    "    print(f\"Number of Chickens: {chickens}\")\n"
   ]
  },
  {
   "cell_type": "markdown",
   "id": "d4d39727",
   "metadata": {},
   "source": [
    "Question 7 - Write a program to find the sum of squares of first n natural numbers where n will be provided by the user."
   ]
  },
  {
   "cell_type": "code",
   "execution_count": 6,
   "id": "23bedc68",
   "metadata": {},
   "outputs": [
    {
     "name": "stdout",
     "output_type": "stream",
     "text": [
      "The sum of squares of first 9 natural numbers is: 285\n"
     ]
    }
   ],
   "source": [
    "# Program to find the sum of squares of first n natural numbers\n",
    "\n",
    "# Taking input from user\n",
    "n = int(input(\"Enter the value of n: \"))\n",
    "\n",
    "# Calculating sum of squares\n",
    "sum_of_squares = 0\n",
    "for i in range(1, n+1):\n",
    "    sum_of_squares += i**2\n",
    "\n",
    "# Displaying result\n",
    "print(f\"The sum of squares of first {n} natural numbers is: {sum_of_squares}\")\n"
   ]
  },
  {
   "cell_type": "markdown",
   "id": "b6c1ef18",
   "metadata": {},
   "source": [
    "Question 8 - Given the first 2 terms of an Arithmetic Series.Find the Nth term \n",
    "of the series. Assume all inputs are provided by the user."
   ]
  },
  {
   "cell_type": "code",
   "execution_count": 7,
   "id": "33cd3713",
   "metadata": {},
   "outputs": [
    {
     "name": "stdout",
     "output_type": "stream",
     "text": [
      "The 22th term of the Arithmetic Series is: 286\n"
     ]
    }
   ],
   "source": [
    "# Program to find the Nth term of an Arithmetic Series\n",
    "\n",
    "# Taking inputs\n",
    "a1 = int(input(\"Enter the first term: \"))\n",
    "a2 = int(input(\"Enter the second term: \"))\n",
    "n = int(input(\"Enter the term number (n): \"))\n",
    "\n",
    "# Finding common difference\n",
    "d = a2 - a1\n",
    "\n",
    "# Finding nth term\n",
    "an = a1 + (n - 1) * d\n",
    "\n",
    "# Displaying result\n",
    "print(f\"The {n}th term of the Arithmetic Series is: {an}\")\n"
   ]
  },
  {
   "cell_type": "markdown",
   "id": "209cc082",
   "metadata": {},
   "source": [
    "Question 9 - Given 2 fractions, find the sum of those 2 fractions.Take the \n",
    "numerator and denominator values of the fractions from the user."
   ]
  },
  {
   "cell_type": "code",
   "execution_count": 9,
   "id": "f4f10f92",
   "metadata": {},
   "outputs": [
    {
     "name": "stdout",
     "output_type": "stream",
     "text": [
      "The sum of the two fractions is: 129/80\n"
     ]
    }
   ],
   "source": [
    "import math\n",
    "\n",
    "# Taking inputs for first fraction\n",
    "num1 = int(input(\"Enter numerator of first fraction: \"))\n",
    "den1 = int(input(\"Enter denominator of first fraction: \"))\n",
    "\n",
    "# Taking inputs for second fraction\n",
    "num2 = int(input(\"Enter numerator of second fraction: \"))\n",
    "den2 = int(input(\"Enter denominator of second fraction: \"))\n",
    "\n",
    "# Calculating numerator and denominator of sum\n",
    "num_sum = num1 * den2 + num2 * den1\n",
    "den_sum = den1 * den2\n",
    "\n",
    "# Simplify the fraction using gcd\n",
    "gcd = math.gcd(num_sum, den_sum)\n",
    "num_sum //= gcd\n",
    "den_sum //= gcd\n",
    "\n",
    "# Display result\n",
    "print(f\"The sum of the two fractions is: {num_sum}/{den_sum}\")\n"
   ]
  },
  {
   "cell_type": "markdown",
   "id": "e1a200e1",
   "metadata": {},
   "source": [
    "Question 10 - Given the height, width and breadth of a milk tank, you have to \n",
    "find out how many glasses of milk can be obtained? Assume all the \n",
    "inputs are provided by the user."
   ]
  },
  {
   "cell_type": "code",
   "execution_count": 10,
   "id": "e3b362f1",
   "metadata": {},
   "outputs": [
    {
     "name": "stdout",
     "output_type": "stream",
     "text": [
      "Tank volume: 184450.00 cm^3\n",
      "Glass volume: 80424.77 cm^3\n",
      "Glasses fillable (exact): 2.29\n",
      "Glasses fillable (whole glasses): 2\n"
     ]
    }
   ],
   "source": [
    "import math\n",
    "\n",
    "# tank dimensions (cm)\n",
    "H = float(input(\"Tank height (cm): \"))\n",
    "L = float(input(\"Tank length (cm): \"))\n",
    "B = float(input(\"Tank breadth (cm): \"))\n",
    "\n",
    "# glass dimensions (cm)\n",
    "h = float(input(\"Glass height (cm): \"))\n",
    "r = float(input(\"Glass radius (cm): \"))\n",
    "\n",
    "tank_vol = H * L * B                # cm^3\n",
    "glass_vol = math.pi * r * r * h     # cm^3\n",
    "\n",
    "glasses_float = tank_vol / glass_vol\n",
    "glasses_int = math.floor(glasses_float)\n",
    "\n",
    "print(f\"Tank volume: {tank_vol:.2f} cm^3\")\n",
    "print(f\"Glass volume: {glass_vol:.2f} cm^3\")\n",
    "print(f\"Glasses fillable (exact): {glasses_float:.2f}\")\n",
    "print(f\"Glasses fillable (whole glasses): {glasses_int}\")\n"
   ]
  },
  {
   "cell_type": "markdown",
   "id": "8267c846",
   "metadata": {},
   "source": [
    "User Input 1 number and sum of all digits in that number"
   ]
  },
  {
   "cell_type": "code",
   "execution_count": 41,
   "id": "0a6e8cbd",
   "metadata": {},
   "outputs": [
    {
     "name": "stdout",
     "output_type": "stream",
     "text": [
      "986\n",
      "6\n",
      "8\n",
      "9\n",
      "The sum of three digits is 23\n"
     ]
    }
   ],
   "source": [
    "a=int(input(\"Enter a 3 digit number\"))\n",
    "print(a)\n",
    "w=a%10\n",
    "a=a//10\n",
    "x=a%10\n",
    "a=a//10\n",
    "y=a%10\n",
    "a=a//10\n",
    "z= w+x+y\n",
    "print(w)\n",
    "print(x)\n",
    "print(y)\n",
    "print(\"The sum of three digits is\",z)\n"
   ]
  },
  {
   "cell_type": "markdown",
   "id": "38453289",
   "metadata": {},
   "source": [
    "Swapping of two numbers without using third var"
   ]
  },
  {
   "cell_type": "code",
   "execution_count": null,
   "id": "1c2da519",
   "metadata": {},
   "outputs": [
    {
     "name": "stdout",
     "output_type": "stream",
     "text": [
      "Before swapping: a = 77, b = 99\n",
      "After swapping: a = 99, b = 77\n"
     ]
    }
   ],
   "source": [
    "a = int(input(\"Enter first number: \"))\n",
    "b = int(input(\"Enter second number: \"))\n",
    "print(f\"Before swapping: a = {a}, b = {b}\")\n",
    "a = a + b  \n",
    "b = a - b   \n",
    "a = a - b   \n",
    "print(f\"After swapping: a = {a}, b = {b}\")"
   ]
  },
  {
   "cell_type": "markdown",
   "id": "5ce9d288",
   "metadata": {},
   "source": [
    "Code for email and password verification"
   ]
  },
  {
   "cell_type": "code",
   "execution_count": null,
   "id": "8dd51f94",
   "metadata": {},
   "outputs": [
    {
     "name": "stdout",
     "output_type": "stream",
     "text": [
      "Invalid password, Try again\n",
      "Invalid email, Try again\n",
      "Tumse na ho payega\n"
     ]
    }
   ],
   "source": [
    "User_email= input(\"Enter your email:\\t\")\n",
    "User_password= input(\"Enter your password:\\t\")\n",
    "if User_email==\"singhadi2306@gmail.com\" and User_password==\"xyz\":\n",
    "    print(\"Welcome\")\n",
    "elif User_email==\"singhadi2306@gmail.com\" and User_password!=\"xyz\":\n",
    "    print(\"Invalid password, Try again\")\n",
    "    User_email= input(\"Enter your email:\\t\")\n",
    "    User_password= input(\"Enter your password:\\t\")\n",
    "    if User_email==\"singhadi2306@gmail.com\" and User_password==\"xyz\":\n",
    "        print(\"Welcome\")\n",
    "    if User_email!=\"singhadi2306@gmail.com\" and User_password==\"xyz\":\n",
    "        print(\"Invalid email, Try again\")\n",
    "        User_email= input(\"Enter your email:\\t\")\n",
    "        User_password= input(\"Enter your password:\\t\")\n",
    "        if User_email==\"singhadi2306@gmail.com\" and User_password==\"xyz\":\n",
    "            print(\"Welcome\")\n",
    "        else:\n",
    "            print(\"Tumse na ho payega\")\n",
    "    else:\n",
    "        print(\"Tumse na ho payega\")\n",
    "elif User_email!=\"singhadi2306@gmail.com\" and User_password ==\"xyz\":\n",
    "    print(\"Invalid email, Try again\")\n",
    "    User_email= input(\"Enter your email:\\t\")\n",
    "    User_password= input(\"Enter your password:\\t\")\n",
    "    if User_email==\"singhadi2306@gmail.com\" and User_password==\"xyz\":\n",
    "        print(\"Welcome\")\n",
    "    if User_email==\"singhadi2306@gmail.com\" and User_password!=\"xyz\":\n",
    "        print(\"Invalid email, Try again\")\n",
    "        User_email= input(\"Enter your email:\\t\")\n",
    "        User_password= input(\"Enter your password:\\t\")\n",
    "        if User_email==\"singhadi2306@gmail.com\" and User_password==\"xyz\":\n",
    "            print(\"Welcome\")\n",
    "        else:\n",
    "            print(\"Tumse na ho payega\")\n",
    "    else:\n",
    "        print(\"Tumse na ho payega\")        \n",
    "    "
   ]
  },
  {
   "cell_type": "markdown",
   "id": "5577b48d",
   "metadata": {},
   "source": [
    "Code to check wether a number is prime or not"
   ]
  },
  {
   "cell_type": "code",
   "execution_count": 17,
   "id": "04f42c41",
   "metadata": {},
   "outputs": [
    {
     "name": "stdout",
     "output_type": "stream",
     "text": [
      "65489129843 is a prime number\n"
     ]
    }
   ],
   "source": [
    "num = int(input(\"Enter a number: \"))\n",
    "\n",
    "if num > 1:\n",
    "    for i in range(2, int(num**0.5) + 1):\n",
    "        if num % i == 0:\n",
    "            print(num, \"is not a prime number\")\n",
    "            break\n",
    "    else:\n",
    "        print(num, \"is a prime number\")\n",
    "else:\n",
    "    print(num, \"is not a prime number\")\n"
   ]
  },
  {
   "cell_type": "markdown",
   "id": "f4d73106",
   "metadata": {},
   "source": [
    "Code to check wether a number is prime or not\n"
   ]
  },
  {
   "cell_type": "code",
   "execution_count": 21,
   "id": "4cd97b0d",
   "metadata": {},
   "outputs": [
    {
     "name": "stdout",
     "output_type": "stream",
     "text": [
      "100003 is a prime number\n"
     ]
    }
   ],
   "source": [
    "num = int(input(\"Enter a number: \"))\n",
    "\n",
    "if num > 1:\n",
    "    for i in range(2, num):\n",
    "        if num % i == 0:\n",
    "            print(num, \"is not a prime number\")\n",
    "            break\n",
    "    else:\n",
    "        print(num, \"is a prime number\")\n",
    "else:\n",
    "    print(num, \"is not a prime number\")"
   ]
  },
  {
   "cell_type": "markdown",
   "id": "110f9585",
   "metadata": {},
   "source": [
    "Code to check wether a number is prime or not\n"
   ]
  },
  {
   "cell_type": "code",
   "execution_count": 24,
   "id": "97cd7464",
   "metadata": {},
   "outputs": [
    {
     "name": "stdout",
     "output_type": "stream",
     "text": [
      "100003 is a prime number\n"
     ]
    }
   ],
   "source": [
    "num = int(input(\"Enter a number: \"))\n",
    "\n",
    "if num > 1:\n",
    "    for i in range(2, num//2 + 1):\n",
    "        if num % i == 0:\n",
    "            print(num, \"is not a prime number\")\n",
    "            break\n",
    "    else:\n",
    "        print(num, \"is a prime number\")\n",
    "else:\n",
    "    print(num, \"is not a prime number\")"
   ]
  },
  {
   "cell_type": "markdown",
   "id": "7a34ef84",
   "metadata": {},
   "source": [
    "code for addition of numbers until the user gives a negative number and doesn\"t add the negative number just stops there"
   ]
  },
  {
   "cell_type": "code",
   "execution_count": null,
   "id": "56201f26",
   "metadata": {},
   "outputs": [
    {
     "name": "stdout",
     "output_type": "stream",
     "text": [
      "The sum of the numbers is: 36\n"
     ]
    }
   ],
   "source": [
    "num = int(input(\"Enter a number: \"))\n",
    "total = 0\n",
    "while num >= 0:\n",
    "    total += num\n",
    "    num = int(input(\"Enter a number: \"))\n",
    "print(\"The sum of the numbers is:\", total)"
   ]
  },
  {
   "cell_type": "markdown",
   "id": "d2a834dd",
   "metadata": {},
   "source": [
    "Number guessing game"
   ]
  },
  {
   "cell_type": "code",
   "execution_count": 1,
   "id": "95855c90",
   "metadata": {},
   "outputs": [
    {
     "name": "stdout",
     "output_type": "stream",
     "text": [
      "Too low! Try again.\n",
      "Too high! Try again.\n",
      "Too low! Try again.\n",
      "Too high! Try again.\n",
      "Congratulations! You guessed the number.\n"
     ]
    }
   ],
   "source": [
    "#Number guessing game\n",
    "import random\n",
    "num = random.randint(1, 100)\n",
    "guess = int(input(\"Guess a number between 1 and 100: \"))\n",
    "while guess != num:\n",
    "    if guess > num:\n",
    "        print(\"Too high! Try again.\")\n",
    "    else:\n",
    "        print(\"Too low! Try again.\")\n",
    "    guess = int(input(\"Guess a number between 1 and 100: \"))\n",
    "print(\"Congratulations! You guessed the number.\")"
   ]
  },
  {
   "cell_type": "markdown",
   "id": "70e7c984",
   "metadata": {},
   "source": [
    "# Task 2"
   ]
  },
  {
   "cell_type": "markdown",
   "id": "1669c129",
   "metadata": {},
   "source": [
    "Question 1 - Write a program that will give you in hand monthly salary after deduction on CTC - HRA(10%), DA(5%), PF(3%) and taxes \n",
    "deduction as below:\n",
    "Salary(Lakhs) : Tax(%)\n",
    "• Below 5 : 0%\n",
    "• 5-10 : 10%\n",
    "• 10-20 : 20%\n",
    "• aboove 20 : 30%"
   ]
  },
  {
   "cell_type": "code",
   "execution_count": 11,
   "id": "642cdd23",
   "metadata": {},
   "outputs": [
    {
     "name": "stdout",
     "output_type": "stream",
     "text": [
      "Your total salary without deduction is 123456789.0\n",
      "Your yearly salary is 70864196.88599999 lakhs\n",
      "Your monthly salary is 5905349.740499999 lakhs\n"
     ]
    }
   ],
   "source": [
    "salary=float(input(\"Enter your salary in lakhs:\\t\"))\n",
    "print(\"Your total salary without deduction is\",salary)\n",
    "hra=salary*0.1\n",
    "da=salary*0.05\n",
    "pf=salary*0.03\n",
    "ctc=salary-(hra+da+pf)\n",
    "tax=0\n",
    "if salary<5:\n",
    "    tax=0\n",
    "elif 5<=salary<=10:\n",
    "    tax=0.1*ctc\n",
    "elif 10<salary<=20:\n",
    "    tax=0.2*ctc\n",
    "elif salary>20:\n",
    "    tax=0.3*ctc\n",
    "net_salary=ctc-tax\n",
    "print(f\"Your yearly salary is {net_salary} lakhs\")\n",
    "monthly_salary=net_salary/12\n",
    "print(f\"Your monthly salary is {monthly_salary} lakhs\")"
   ]
  },
  {
   "cell_type": "markdown",
   "id": "88412e42",
   "metadata": {},
   "source": [
    "Question 2 - Write a program that take a user input of three angles and will find out whether it can form a triangle or not."
   ]
  },
  {
   "cell_type": "code",
   "execution_count": 8,
   "id": "63c8ac35",
   "metadata": {},
   "outputs": [
    {
     "name": "stdout",
     "output_type": "stream",
     "text": [
      "The angles can form a triangle.\n"
     ]
    }
   ],
   "source": [
    "#Write a program that take a user input of three angles and will find out whether it can form a triangle or not.\n",
    "\n",
    "angle1 = float(input(\"Enter the first angle: \"))\n",
    "angle2 = float(input(\"Enter the second angle: \"))\n",
    "angle3 = float(input(\"Enter the third angle: \"))\n",
    "\n",
    "if angle1 + angle2 + angle3 == 180:\n",
    "    print(\"The angles can form a triangle.\")\n",
    "else:\n",
    "    print(\"The angles cannot form a triangle.\")"
   ]
  },
  {
   "cell_type": "markdown",
   "id": "b167bbc2",
   "metadata": {},
   "source": [
    "Question 3 - Write a program that will take user input of cost price and selling price and determines whether its a loss or a profit."
   ]
  },
  {
   "cell_type": "code",
   "execution_count": 10,
   "id": "5c23c025",
   "metadata": {},
   "outputs": [
    {
     "name": "stdout",
     "output_type": "stream",
     "text": [
      "The cost price is:\t 600\n",
      "The selling price is:\t 900\n",
      "Profit\n"
     ]
    }
   ],
   "source": [
    "cost_price=int(input(\"Enter the cost price of the product:\\t\"))\n",
    "selling_price=int(input(\"Enter the selling price of the product:\\t\"))\n",
    "print(\"The cost price is:\\t\",cost_price)\n",
    "print(\"The selling price is:\\t\",selling_price)\n",
    "if selling_price>cost_price:\n",
    "    print(\"Profit\")\n",
    "elif selling_price<cost_price:\n",
    "    print(\"Loss\")\n",
    "else:\n",
    "    print(\"Neither loss nor profit\")"
   ]
  },
  {
   "cell_type": "markdown",
   "id": "c39dad53",
   "metadata": {},
   "source": [
    "Question 4 - Write a menu-driven program -\n",
    "1. cm to ft\n",
    "2. km to miles\n",
    "3. USD to INR\n",
    "4. exit"
   ]
  },
  {
   "cell_type": "code",
   "execution_count": 20,
   "id": "c6fb75f5",
   "metadata": {},
   "outputs": [
    {
     "name": "stdout",
     "output_type": "stream",
     "text": [
      "Menu:-\n",
      "Enter 1 if you want to convert cm to ft\n",
      "ENter 2 if you want to convert km to miles\n",
      "Enter 3 if you want to convert USD to INR\n",
      "Enter 4 if you want to exit\n",
      "The currency in USD is:\t 82.0\n",
      "The currency in INR is:\t 7176.639999999999\n"
     ]
    }
   ],
   "source": [
    "print(\"Menu:-\")\n",
    "print(\"Enter 1 if you want to convert cm to ft\")\n",
    "print(\"ENter 2 if you want to convert km to miles\")\n",
    "print(\"Enter 3 if you want to convert USD to INR\")\n",
    "print(\"Enter 4 if you want to exit\")\n",
    "number=int(input(\"Enter a number:\\t\"))\n",
    "if number==1:\n",
    "    cm=float(input(\"Enter a number in cm:\\t\"))\n",
    "    print(\"The number in cm is:\\t\",cm)\n",
    "    ft=cm/30.48\n",
    "    print(\"The number in ft is:\\t\",ft)\n",
    "elif number==2:\n",
    "    km=float(input(\"Enter a distance in km:\\t\"))\n",
    "    print(\"The distance in km is:\\t\",km)\n",
    "    miles=km/1.609\n",
    "    print(\"The distance in miles is:\\t\",miles)\n",
    "elif number==3:\n",
    "    USD=float(input(\"Enter a currency in USD:\\t\"))\n",
    "    print(\"The currency in USD is:\\t\",USD)\n",
    "    INR=USD*87.52\n",
    "    print(\"The currency in INR is:\\t\",INR)\n",
    "elif number==4:\n",
    "    print(\"Exit\")\n",
    "else :\n",
    "    print(\"Invalid input\")"
   ]
  },
  {
   "cell_type": "markdown",
   "id": "fb435fa4",
   "metadata": {},
   "source": [
    "Question 5 - Exercise 12: Display Fibonacci series up to 10 terms.\n",
    "Note: The Fibonacci Sequence is a series of numbers. The next number is found by adding up the two numbers before it. The first two numbers are 0 and 1. For example, 0, 1, 1, 2, 3, 5, 8, 13, 21. \n",
    "The next number in this series above is 13+21 = 34"
   ]
  },
  {
   "cell_type": "code",
   "execution_count": 25,
   "id": "7361354a",
   "metadata": {},
   "outputs": [
    {
     "name": "stdout",
     "output_type": "stream",
     "text": [
      "0\n",
      "1\n",
      "1\n",
      "2\n",
      "3\n",
      "5\n",
      "8\n",
      "13\n",
      "21\n",
      "34\n"
     ]
    }
   ],
   "source": [
    "a,b=0,1\n",
    "for i in range(0,10):\n",
    "    print(a)\n",
    "    a,b=b,a+b"
   ]
  },
  {
   "cell_type": "markdown",
   "id": "753c815e",
   "metadata": {},
   "source": [
    "Question 6 - Find the factorial of a given number.\n",
    "Write a program to use the loop to find the factorial of a given number."
   ]
  },
  {
   "cell_type": "code",
   "execution_count": 40,
   "id": "3511d316",
   "metadata": {},
   "outputs": [
    {
     "name": "stdout",
     "output_type": "stream",
     "text": [
      "The factorial of 5 is 120\n"
     ]
    }
   ],
   "source": [
    "number=int(input(\"Enter a positive number to find it's factorial:\\t\"))\n",
    "factorial=1\n",
    "if number>=0:\n",
    "    for i in range(1,number+1):\n",
    "        factorial=factorial*i\n",
    "else:\n",
    "    print(\"Invalid input\")        \n",
    "print(f\"The factorial of {number} is {factorial}\")"
   ]
  },
  {
   "cell_type": "markdown",
   "id": "60840fbc",
   "metadata": {},
   "source": [
    "Question 7 - Reverse a given integer number."
   ]
  },
  {
   "cell_type": "code",
   "execution_count": 27,
   "id": "4d951e00",
   "metadata": {},
   "outputs": [
    {
     "name": "stdout",
     "output_type": "stream",
     "text": [
      "The number before reverse is 5869\n",
      "9685\n"
     ]
    }
   ],
   "source": [
    "num=int(input(\"Enter a number:\\t\"))\n",
    "print(\"The number before reverse is\", num)\n",
    "rev=0\n",
    "while num>0:\n",
    "    mod=num%10\n",
    "    rev=rev*10+mod\n",
    "    num=num//10\n",
    "print(rev)"
   ]
  },
  {
   "cell_type": "markdown",
   "id": "60894b1d",
   "metadata": {},
   "source": [
    "Question 8 - Take a user input as integer N. Find out the sum from 1 to N.  \n",
    "If any number if divisible by 5, then skip that number. And if the sum is greater than 300, don't need to calculate the sum further more. Print the final result. And don't use for loop to solve this problem."
   ]
  },
  {
   "cell_type": "code",
   "execution_count": null,
   "id": "4abbaa8c",
   "metadata": {},
   "outputs": [],
   "source": [
    "number=int(input(\"Enter a number:\\t\"))\n",
    "    "
   ]
  }
 ],
 "metadata": {
  "kernelspec": {
   "display_name": "Python 3",
   "language": "python",
   "name": "python3"
  },
  "language_info": {
   "codemirror_mode": {
    "name": "ipython",
    "version": 3
   },
   "file_extension": ".py",
   "mimetype": "text/x-python",
   "name": "python",
   "nbconvert_exporter": "python",
   "pygments_lexer": "ipython3",
   "version": "3.11.5"
  }
 },
 "nbformat": 4,
 "nbformat_minor": 5
}
