{
 "cells": [
  {
   "cell_type": "code",
   "execution_count": 108,
   "id": "e50393ae",
   "metadata": {},
   "outputs": [],
   "source": [
    "file=open(\"aaditya.txt\",\"w\")"
   ]
  },
  {
   "cell_type": "code",
   "execution_count": 109,
   "id": "9b9a41b5",
   "metadata": {},
   "outputs": [],
   "source": [
    "file.close()"
   ]
  },
  {
   "cell_type": "code",
   "execution_count": 110,
   "id": "d081db9b",
   "metadata": {},
   "outputs": [
    {
     "data": {
      "text/plain": [
       "24"
      ]
     },
     "execution_count": 110,
     "metadata": {},
     "output_type": "execute_result"
    }
   ],
   "source": [
    "file=open(\"aaditya.txt\",\"w\")\n",
    "file.write(\"I am a Data Scientist\\n\")\n",
    "file.write(\"This is absolutely true\\n\")"
   ]
  },
  {
   "cell_type": "code",
   "execution_count": 111,
   "id": "0bff433f",
   "metadata": {},
   "outputs": [],
   "source": [
    "file.close()"
   ]
  },
  {
   "cell_type": "code",
   "execution_count": 112,
   "id": "7a88149d",
   "metadata": {},
   "outputs": [],
   "source": [
    "string_list=[\"This that cat\\n\",\"This that dog\\n\",\"This that cow\\n\"]"
   ]
  },
  {
   "cell_type": "code",
   "execution_count": 113,
   "id": "6e255cc5",
   "metadata": {},
   "outputs": [],
   "source": [
    "# f=open(\"aaditya.txt\",\"w\")\n",
    "# f.writelines(string_list)\n",
    "# f.close()            This will remove the previously present lines from the file"
   ]
  },
  {
   "cell_type": "code",
   "execution_count": 114,
   "id": "83e401f9",
   "metadata": {},
   "outputs": [],
   "source": [
    "f=open(\"aaditya.txt\",\"a\")\n",
    "f.writelines(string_list)\n",
    "f.close()"
   ]
  },
  {
   "cell_type": "code",
   "execution_count": 115,
   "id": "82cc4e6c",
   "metadata": {},
   "outputs": [
    {
     "name": "stdout",
     "output_type": "stream",
     "text": [
      "93\n",
      "113\n"
     ]
    }
   ],
   "source": [
    "f=open(\"aaditya.txt\",\"a\")\n",
    "print(f.tell())\n",
    "f.write(\"\\n I'm a good boy \\n\")\n",
    "print(f.tell())\n",
    "f.close()"
   ]
  },
  {
   "cell_type": "code",
   "execution_count": 116,
   "id": "bab9aafb",
   "metadata": {},
   "outputs": [],
   "source": [
    "f=open(\"aaditya.txt\",\"a\")\n",
    "f.seek(110)\n",
    "f.write(\"not\")\n",
    "f.close()"
   ]
  },
  {
   "cell_type": "code",
   "execution_count": 117,
   "id": "9152f639",
   "metadata": {},
   "outputs": [],
   "source": [
    "f=open(\"sample.txt\",\"w\")\n",
    "f.write(\"Hello\")\n",
    "f.seek(0)\n",
    "f.write(\"Xe\")\n",
    "f.close()"
   ]
  },
  {
   "cell_type": "code",
   "execution_count": 118,
   "id": "3fa11f0a",
   "metadata": {},
   "outputs": [
    {
     "name": "stdout",
     "output_type": "stream",
     "text": [
      "I am a Data Scientist\n",
      "This is absolutely true\n",
      "This that cat\n",
      "This that dog\n",
      "This that cow\n",
      "\n",
      " I'm a good boy \n",
      "not\n"
     ]
    }
   ],
   "source": [
    "g=open(\"aaditya.txt\",\"r\")\n",
    "data=g.read()\n",
    "print(data)\n",
    "g.close()"
   ]
  },
  {
   "cell_type": "code",
   "execution_count": 119,
   "id": "44519b4f",
   "metadata": {},
   "outputs": [
    {
     "name": "stdout",
     "output_type": "stream",
     "text": [
      "['I am a Data Scientist\\n', 'This is absolutely true\\n', 'This that cat\\n', 'This that dog\\n', 'This that cow\\n', '\\n', \" I'm a good boy \\n\", 'not']\n"
     ]
    }
   ],
   "source": [
    "g=open(\"aaditya.txt\",\"r\")\n",
    "data=g.readlines()\n",
    "print(data)\n",
    "g.close()"
   ]
  },
  {
   "cell_type": "code",
   "execution_count": 120,
   "id": "b910de2c",
   "metadata": {},
   "outputs": [
    {
     "name": "stdout",
     "output_type": "stream",
     "text": [
      "I am /a Dat/a Sci/entis/t\n",
      "Thi/s is /"
     ]
    }
   ],
   "source": [
    "g=open(\"aaditya.txt\",\"r\")\n",
    "print(g.read(5),end=\"/\")\n",
    "print(g.read(5),end=\"/\")\n",
    "print(g.read(5),end=\"/\")\n",
    "print(g.read(5),end=\"/\")\n",
    "print(g.read(5),end=\"/\")\n",
    "print(g.read(5),end=\"/\")\n",
    "g.close()"
   ]
  },
  {
   "cell_type": "code",
   "execution_count": 121,
   "id": "90383969",
   "metadata": {},
   "outputs": [
    {
     "name": "stdout",
     "output_type": "stream",
     "text": [
      "I am /a Dat/a Sci/entis/t\n",
      "Thi/s is /absol/utely/ true/\n",
      "This/ that/ cat\n",
      "/This /that /dog\n",
      "T/his t/hat c/ow\n",
      "\n",
      " /I'm a/ good/ boy /\n",
      "not/"
     ]
    }
   ],
   "source": [
    "g=open(\"aaditya.txt\",\"r\")\n",
    "while True:\n",
    "    data=g.read(5)\n",
    "    if not data:\n",
    "        break\n",
    "    print(data,end=\"/\")\n",
    "g.close()"
   ]
  },
  {
   "cell_type": "code",
   "execution_count": 122,
   "id": "bd8061fb",
   "metadata": {},
   "outputs": [
    {
     "name": "stdout",
     "output_type": "stream",
     "text": [
      "I am /a Dat/a Sci/entis/t\n",
      "Thi/s is /absol/utely/ true/\n",
      "This/ that/ cat\n",
      "/This /that /dog\n",
      "T/his t/hat c/ow\n",
      "\n",
      " /I'm a/ good/ boy /\n",
      "not/"
     ]
    }
   ],
   "source": [
    "g=open(\"aaditya.txt\",\"r\")\n",
    "while True:\n",
    "    data=g.read(5)\n",
    "    if data == \"\":\n",
    "        break\n",
    "    print(data,end=\"/\")\n",
    "g.close()"
   ]
  },
  {
   "cell_type": "code",
   "execution_count": 123,
   "id": "0d956546",
   "metadata": {},
   "outputs": [],
   "source": [
    "with open (\"sample2.txt\",\"w\") as f:\n",
    "    f.write(\"XYZ\")\n",
    "    f.write(\"\\nabc\")\n",
    "# f.write(\"\\nefg\")    "
   ]
  },
  {
   "cell_type": "code",
   "execution_count": 124,
   "id": "5b7618f4",
   "metadata": {},
   "outputs": [
    {
     "name": "stdout",
     "output_type": "stream",
     "text": [
      "I am /a Dat/a Sci/entis/t\n",
      "Thi/s is /absol/utely/ true/\n",
      "This/ that/ cat\n",
      "/This /that /dog\n",
      "T/his t/hat c/ow\n",
      "\n",
      " /I'm a/ good/ boy /\n",
      "not/"
     ]
    }
   ],
   "source": [
    "with open (\"aaditya.txt\",\"r\") as f:\n",
    "    data=f.read(5)\n",
    "    while True:\n",
    "        if not data:\n",
    "            break\n",
    "        print(data,end=\"/\")\n",
    "        data=f.read(5)"
   ]
  },
  {
   "cell_type": "code",
   "execution_count": 125,
   "id": "d9ddd513",
   "metadata": {},
   "outputs": [],
   "source": [
    "with open (\"sample2.txt\",\"w\") as f:\n",
    "    f.write(\"5\")"
   ]
  },
  {
   "cell_type": "code",
   "execution_count": 126,
   "id": "ef2e5443",
   "metadata": {},
   "outputs": [
    {
     "name": "stdout",
     "output_type": "stream",
     "text": [
      "5\n"
     ]
    },
    {
     "data": {
      "text/plain": [
       "12"
      ]
     },
     "execution_count": 126,
     "metadata": {},
     "output_type": "execute_result"
    }
   ],
   "source": [
    "with open (\"sample2.txt\",\"r\") as f:\n",
    "    data = f.read()\n",
    "    print(data)\n",
    "#data+7    \n",
    "int(data)+7"
   ]
  },
  {
   "cell_type": "code",
   "execution_count": 127,
   "id": "34abbc69",
   "metadata": {},
   "outputs": [],
   "source": [
    "d1={\"A\":1, \"B\":2}\n",
    "with open(\"sample2.txt\",\"w\") as f:\n",
    "    f.write(str(d1))"
   ]
  },
  {
   "cell_type": "code",
   "execution_count": 128,
   "id": "b04e4681",
   "metadata": {},
   "outputs": [
    {
     "name": "stdout",
     "output_type": "stream",
     "text": [
      "{'A': 1, 'B': 2}\n"
     ]
    }
   ],
   "source": [
    "with open (\"sample2.txt\",\"r\") as f:\n",
    "    data = f.read()\n",
    "    print(data)\n",
    "#data+7    \n"
   ]
  },
  {
   "cell_type": "code",
   "execution_count": 129,
   "id": "60f0a358",
   "metadata": {},
   "outputs": [
    {
     "data": {
      "text/plain": [
       "str"
      ]
     },
     "execution_count": 129,
     "metadata": {},
     "output_type": "execute_result"
    }
   ],
   "source": [
    "type(data)"
   ]
  },
  {
   "cell_type": "code",
   "execution_count": 130,
   "id": "edbea809",
   "metadata": {},
   "outputs": [],
   "source": [
    "import json"
   ]
  },
  {
   "cell_type": "code",
   "execution_count": 131,
   "id": "17dcb26f",
   "metadata": {},
   "outputs": [],
   "source": [
    "with open (\"demo.json\",\"w\") as f:\n",
    "    json.dump(d1,f)"
   ]
  },
  {
   "cell_type": "code",
   "execution_count": 132,
   "id": "4733e339",
   "metadata": {},
   "outputs": [
    {
     "name": "stdout",
     "output_type": "stream",
     "text": [
      "{'A': 1, 'B': 2}\n"
     ]
    }
   ],
   "source": [
    "with open (\"demo.json\",\"r\") as f:\n",
    "    data = json.load(f)\n",
    "    print(data)\n",
    "#data+7"
   ]
  },
  {
   "cell_type": "code",
   "execution_count": 133,
   "id": "652bbe75",
   "metadata": {},
   "outputs": [
    {
     "data": {
      "text/plain": [
       "dict"
      ]
     },
     "execution_count": 133,
     "metadata": {},
     "output_type": "execute_result"
    }
   ],
   "source": [
    "type(data)"
   ]
  },
  {
   "cell_type": "code",
   "execution_count": 134,
   "id": "869f0642",
   "metadata": {},
   "outputs": [
    {
     "data": {
      "text/plain": [
       "1"
      ]
     },
     "execution_count": 134,
     "metadata": {},
     "output_type": "execute_result"
    }
   ],
   "source": [
    "data[\"A\"]"
   ]
  },
  {
   "cell_type": "code",
   "execution_count": 135,
   "id": "2135d795",
   "metadata": {},
   "outputs": [],
   "source": [
    "l3=[1,2,3]\n",
    "with open (\"sample3.txt\",\"w\") as f:\n",
    "    json.dump(l3,f)\n",
    "    "
   ]
  },
  {
   "cell_type": "code",
   "execution_count": 136,
   "id": "ba9e783e",
   "metadata": {},
   "outputs": [
    {
     "name": "stdout",
     "output_type": "stream",
     "text": [
      "[1, 2, 3]\n"
     ]
    },
    {
     "data": {
      "text/plain": [
       "list"
      ]
     },
     "execution_count": 136,
     "metadata": {},
     "output_type": "execute_result"
    }
   ],
   "source": [
    "with open (\"sample3.txt\",\"r\") as f:\n",
    "    data = json.load(f)\n",
    "    print(data)\n",
    "type(data)"
   ]
  },
  {
   "cell_type": "code",
   "execution_count": 137,
   "id": "9c46900d",
   "metadata": {},
   "outputs": [
    {
     "data": {
      "text/plain": [
       "1"
      ]
     },
     "execution_count": 137,
     "metadata": {},
     "output_type": "execute_result"
    }
   ],
   "source": [
    "data[0]"
   ]
  },
  {
   "cell_type": "code",
   "execution_count": 158,
   "id": "7592ce9f",
   "metadata": {},
   "outputs": [],
   "source": [
    "class Student:\n",
    "    def __init__(self,name,roll_no):\n",
    "        self.name=name\n",
    "        self.roll_no=roll_no\n",
    "s1=Student(\"Aaditya\",1)"
   ]
  },
  {
   "cell_type": "code",
   "execution_count": 159,
   "id": "1a6b91b6",
   "metadata": {},
   "outputs": [],
   "source": [
    "def display(obj):\n",
    "    return{\"name\":obj.name,\"roll_no\":obj.roll_no}"
   ]
  },
  {
   "cell_type": "code",
   "execution_count": 160,
   "id": "41e16c1f",
   "metadata": {},
   "outputs": [],
   "source": [
    "with open(\"demo.json\",\"w\") as file:\n",
    "    json.dump(s1,file,default=display)"
   ]
  },
  {
   "cell_type": "code",
   "execution_count": 163,
   "id": "483e3510",
   "metadata": {},
   "outputs": [
    {
     "name": "stdout",
     "output_type": "stream",
     "text": [
      "{'name': 'Aaditya', 'roll_no': 1}\n"
     ]
    },
    {
     "data": {
      "text/plain": [
       "dict"
      ]
     },
     "execution_count": 163,
     "metadata": {},
     "output_type": "execute_result"
    }
   ],
   "source": [
    "with open(\"demo.json\",\"r\") as file:\n",
    "    data=json.load(file)\n",
    "    print(data)\n",
    "type(data)"
   ]
  },
  {
   "cell_type": "markdown",
   "id": "f718d6c6",
   "metadata": {},
   "source": [
    "Serialization and Deserialization issue"
   ]
  },
  {
   "cell_type": "code",
   "execution_count": 161,
   "id": "582df10e",
   "metadata": {},
   "outputs": [],
   "source": [
    "# with open(\"demo.json\",\"w\") as file:\n",
    "#     json.dump(s1,file)\n",
    "    \n",
    "# with open(\"demo.json\",\"r\") as file:\n",
    "#     data=json.load(file)\n",
    "#     print(data)\n",
    "    \n",
    "# print(data)"
   ]
  },
  {
   "cell_type": "code",
   "execution_count": null,
   "id": "fbfb7deb",
   "metadata": {},
   "outputs": [],
   "source": []
  }
 ],
 "metadata": {
  "kernelspec": {
   "display_name": "Python 3",
   "language": "python",
   "name": "python3"
  },
  "language_info": {
   "codemirror_mode": {
    "name": "ipython",
    "version": 3
   },
   "file_extension": ".py",
   "mimetype": "text/x-python",
   "name": "python",
   "nbconvert_exporter": "python",
   "pygments_lexer": "ipython3",
   "version": "3.11.5"
  }
 },
 "nbformat": 4,
 "nbformat_minor": 5
}
